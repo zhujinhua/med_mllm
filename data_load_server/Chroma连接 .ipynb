{
 "cells": [
  {
   "cell_type": "code",
   "execution_count": 1,
   "id": "1a1e0ac1",
   "metadata": {},
   "outputs": [],
   "source": [
    "import sys\n",
    "import pandas as pd\n",
    "import chromadb\n",
    "from langchain_community.embeddings import XinferenceEmbeddings\n",
    "\n",
    "sys.path.append(\"D:\\\\Users\\\\pythonWorkSpace\\\\testPython\\\\AI-50\\\\three_stage_project\")\n",
    "\n",
    "from utils.data_load_utils import excel_to_json , str_to_document , get_ids, json_to_str\n",
    "from langchain_text_splitters import RecursiveCharacterTextSplitter\n",
    "from chromadb import Documents, EmbeddingFunction, Embeddings"
   ]
  },
  {
   "cell_type": "code",
   "execution_count": 2,
   "id": "939b6a63",
   "metadata": {},
   "outputs": [],
   "source": [
    "from utils.config_load import load_yaml_file\n",
    "from langchain_core.documents import Document"
   ]
  },
  {
   "cell_type": "code",
   "execution_count": 3,
   "id": "b9d1787b",
   "metadata": {},
   "outputs": [
    {
     "data": {
      "text/plain": [
       "{'chroma': {'host': 'direct.virtaicloud.com',\n",
       "  'port': 20994,\n",
       "  'db_name': 'testDB'},\n",
       " 'embedding': {'model_uid': 'custom-bge-m3',\n",
       "  'server_url': 'http://direct.virtaicloud.com:28511'},\n",
       " 'data_source': {'path': '.././data/test.xlsx'},\n",
       " 'llm': {'url': 'http://direct.virtaicloud.com:28408/v1',\n",
       "  'model_name': 'qwen-vl-chat'}}"
      ]
     },
     "execution_count": 3,
     "metadata": {},
     "output_type": "execute_result"
    }
   ],
   "source": [
    "# 读取配置\n",
    "configs = load_yaml_file(file_path=\"../../config_file/config.yaml\")\n",
    "configs"
   ]
  },
  {
   "cell_type": "code",
   "execution_count": 4,
   "id": "0a62f8bc",
   "metadata": {},
   "outputs": [
    {
     "name": "stderr",
     "output_type": "stream",
     "text": [
      "d:\\TOOL\\anaconda3\\Lib\\site-packages\\langchain_core\\utils\\utils.py:235: UserWarning: WARNING! stream_options is not default parameter.\n",
      "                stream_options was transferred to model_kwargs.\n",
      "                Please confirm that stream_options is what you intended.\n",
      "  warnings.warn(\n"
     ]
    }
   ],
   "source": [
    "from model_utils import model_connect_util\n",
    "url = \"http://direct.virtaicloud.com:28408/v1\"\n",
    "url = \"http://direct.virtaicloud.com:20326/v1\"\n",
    "url = \"http://direct.virtaicloud.com:25933/v1\"\n",
    "model = model_connect_util.get_self_model_connect(base_url=url,api_key=\"xx\",\n",
    "                                            model_name=\"qwen-vl-chat\",\n",
    "                                            stream_option=True)\n",
    "   "
   ]
  },
  {
   "cell_type": "code",
   "execution_count": 5,
   "id": "535c81b8",
   "metadata": {},
   "outputs": [],
   "source": [
    "# chroma_client = chromadb.HttpClient(host=\"direct.virtaicloud.com\", port=20994)"
   ]
  },
  {
   "cell_type": "code",
   "execution_count": 6,
   "id": "bec6fd10-6875-4688-9114-fb22565448bd",
   "metadata": {},
   "outputs": [],
   "source": [
    "# 连接到Chroma 服务器\n",
    "chroma_client = chromadb.HttpClient(host=configs[\"chroma\"][\"host\"], port=configs[\"chroma\"][\"port\"])\n",
    "\n",
    "# 创建一个Embedding实例\n",
    "embed = XinferenceEmbeddings(\n",
    "    server_url=configs[\"embedding\"][\"server_url\"], model_uid=configs[\"embedding\"][\"model_uid\"]\n",
    ")\n"
   ]
  },
  {
   "cell_type": "code",
   "execution_count": 7,
   "id": "4d6487a4",
   "metadata": {},
   "outputs": [],
   "source": [
    "# bge服务器总是超时，换小批量转换和插入数据库\n",
    "class MyEmbeddingFunction(EmbeddingFunction):\n",
    "    def __call__(self, input: Documents) -> Embeddings:\n",
    "        # embed the documents somehow\n",
    "        embeddings = []\n",
    "        num =10\n",
    "        print(f\"total:{len(input)}\")\n",
    "        for idx in range(len(input)//num+1):\n",
    "            if idx % 10 == 0:\n",
    "                print(f\"当前Embedding批次：{idx * num} : {(idx + 1) * num}\")\n",
    "            try:\n",
    "                embeddings += embed.embed_documents(input[idx * num: (idx + 1) * num])\n",
    "            except TimeoutError as  timeout:\n",
    "                print(f\"当前Embedding批次：{idx * num} : {(idx + 1) * num} 发生了错误:{timeout}\")\n",
    "                embeds = XinferenceEmbeddings(\n",
    "                    server_url=configs[\"embedding\"][\"server_url\"], model_uid=configs[\"embedding\"][\"model_uid\"]\n",
    "                )\n",
    "                embeddings += embeds.embed_documents(input[idx * num: (idx + 1) * num])\n",
    "                print(f\"当前Embedding批次：{idx * num} : {(idx + 1) * num} 重试成功\")\n",
    "            except TypeError as ty:\n",
    "                print(f\"当前Embedding批次：{idx * num} : {(idx + 1) * num} 发生了错误:{ty}\")\n",
    "                embeds = XinferenceEmbeddings(\n",
    "                    server_url=configs[\"embedding\"][\"server_url\"], model_uid=configs[\"embedding\"][\"model_uid\"]\n",
    "                )\n",
    "                embeddings += embeds.embed_documents(input[idx * num: (idx + 1) * num])\n",
    "                print(f\"当前Embedding批次：{idx * num} : {(idx + 1) * num} 重试成功\")\n",
    "            except Exception as e:\n",
    "                print(f\"当前Embedding批次：{idx * num} : {(idx + 1) * num} 发生了错误:{e}\")\n",
    "                embeds = XinferenceEmbeddings(\n",
    "                    server_url=configs[\"embedding\"][\"server_url\"], model_uid=configs[\"embedding\"][\"model_uid\"]\n",
    "                )\n",
    "                embeddings += embeds.embed_documents(input[idx * num: (idx + 1) * num])\n",
    "                print(f\"当前Embedding批次：{idx * num} : {(idx + 1) * num} 重试成功\")\n",
    "        return embeddings"
   ]
  },
  {
   "cell_type": "code",
   "execution_count": 8,
   "id": "70e4e8e4",
   "metadata": {},
   "outputs": [],
   "source": [
    "from chromadb import Documents, EmbeddingFunction, Embeddings\n",
    "# 小批量转换和插入数据库\n",
    "class MyEmbeddingFunction2(EmbeddingFunction):\n",
    "    def __init__(self,embed):\n",
    "        super().__init__()\n",
    "        self.embed = embed\n",
    "    def __call__(self, input: Documents) -> Embeddings:\n",
    "        # embed the documents somehow\n",
    "        print(\"------本次开始执行--------\")\n",
    "        embeddings = self.embed.embed_documents(input)\n",
    "        print(\"------本次执行成功--------\")\n",
    "        return embeddings"
   ]
  },
  {
   "cell_type": "code",
   "execution_count": 9,
   "id": "e40e33ac",
   "metadata": {},
   "outputs": [],
   "source": [
    "# 获取集合\n",
    "\n",
    "collection = chroma_client.get_or_create_collection(name=\"testDB\",embedding_function=MyEmbeddingFunction2(embed=embed))"
   ]
  },
  {
   "cell_type": "code",
   "execution_count": 10,
   "id": "a87972a1",
   "metadata": {},
   "outputs": [],
   "source": [
    "# 读取 Excel 文件\n",
    "excel_file_path = '../../data/药品说明书数据库_医药数据查询(1).xlsx'\n",
    "json_output = excel_to_json(excel_file=excel_file_path)"
   ]
  },
  {
   "cell_type": "code",
   "execution_count": null,
   "id": "00bf5e1e",
   "metadata": {},
   "outputs": [],
   "source": [
    "json_output['Sheet1'][0]"
   ]
  },
  {
   "cell_type": "code",
   "execution_count": 28,
   "id": "ebdcf360",
   "metadata": {},
   "outputs": [],
   "source": [
    "# 转换json数据为Document对象\n",
    "documents_data = str_to_document(data=json_output['Sheet1'])"
   ]
  },
  {
   "cell_type": "code",
   "execution_count": null,
   "id": "05afd91a",
   "metadata": {},
   "outputs": [],
   "source": [
    "documents_data[0].metadata"
   ]
  },
  {
   "cell_type": "code",
   "execution_count": 30,
   "id": "e2327000",
   "metadata": {},
   "outputs": [],
   "source": [
    "data_str = json_to_str(json_output)"
   ]
  },
  {
   "cell_type": "code",
   "execution_count": 31,
   "id": "0ba9d2de",
   "metadata": {},
   "outputs": [],
   "source": [
    "# 文本切分\n",
    "spliter = RecursiveCharacterTextSplitter(chunk_size=512, chunk_overlap=128)\n",
    "\n",
    "\n",
    "spliter_result = spliter.split_documents(documents=documents_data)"
   ]
  },
  {
   "cell_type": "code",
   "execution_count": null,
   "id": "21c18b1f",
   "metadata": {},
   "outputs": [],
   "source": [
    "len(spliter_result)"
   ]
  },
  {
   "cell_type": "code",
   "execution_count": null,
   "id": "7aef718f",
   "metadata": {},
   "outputs": [],
   "source": [
    "spliter_result[1000].page_content"
   ]
  },
  {
   "cell_type": "code",
   "execution_count": 18,
   "id": "768c2ee1",
   "metadata": {},
   "outputs": [],
   "source": [
    "# for idx, chunk in enumerate(spliter_result):\n",
    "#     print(idx, len(chunk.page_content))\n",
    "#     print(chunk.page_content)\n",
    "#     print(\"-*-\" *30 + \"\\n\")"
   ]
  },
  {
   "cell_type": "code",
   "execution_count": 18,
   "id": "3f2af8ae",
   "metadata": {},
   "outputs": [],
   "source": []
  },
  {
   "cell_type": "code",
   "execution_count": 34,
   "id": "54d7581f",
   "metadata": {},
   "outputs": [],
   "source": [
    "# 生成metadata\n",
    "metadatas = []\n",
    "\n",
    "for doc in spliter_result:\n",
    "    metadatas.append(doc.metadata)\n",
    "\n",
    "# 生成content\n",
    "inputs = []\n",
    "for doc in spliter_result:\n",
    "    inputs.append(doc.page_content)\n",
    "\n",
    "# 生成ids\n",
    "ids = [get_ids() for _ in spliter_result ]"
   ]
  },
  {
   "cell_type": "code",
   "execution_count": null,
   "id": "0f13f074",
   "metadata": {},
   "outputs": [],
   "source": [
    "inputs[221]"
   ]
  },
  {
   "cell_type": "code",
   "execution_count": null,
   "id": "3bf40a05",
   "metadata": {},
   "outputs": [],
   "source": [
    "metadatas[221]"
   ]
  },
  {
   "cell_type": "markdown",
   "id": "9d9bdb37",
   "metadata": {},
   "source": [
    "### 保存中间切分数据"
   ]
  },
  {
   "cell_type": "code",
   "execution_count": 10,
   "id": "bf1e038a",
   "metadata": {},
   "outputs": [],
   "source": [
    "import numpy as np\n",
    "import json\n",
    "\n",
    "file_name = \"metadatas\"\n",
    "dict_array_json = [json.dumps(d) for d in metadatas]\n",
    "\n",
    "metadatas_to_save = np.array(dict_array_json)\n",
    "\n",
    "np.save(file_name,metadatas_to_save)\n",
    "\n",
    "\n",
    "file_name = \"inputs\"\n",
    "inputs_to_save = np.array(inputs)\n",
    "\n",
    "np.save(file_name,inputs_to_save)\n",
    "\n",
    "\n",
    "file_name = \"ids\"\n",
    "ids_to_save = np.array(ids)\n",
    "\n",
    "np.save(file_name,ids_to_save)"
   ]
  },
  {
   "cell_type": "markdown",
   "id": "7d925556",
   "metadata": {},
   "source": [
    "### 加载切分的数据，用户断点续传"
   ]
  },
  {
   "cell_type": "code",
   "execution_count": 11,
   "id": "9515ebc2",
   "metadata": {},
   "outputs": [],
   "source": [
    "import numpy as np\n",
    "import json\n",
    "\n",
    "new_metadatas = np.load(file=\"metadatas.npy\").tolist()\n",
    "# 将JSON字符串转换回字典\n",
    "new_metadatas = [json.loads(j) for j in new_metadatas]\n",
    "\n",
    "new_inputs = np.load(file=\"inputs.npy\").tolist()\n",
    "\n",
    "\n",
    "new_ids = np.load(file=\"ids.npy\").tolist()"
   ]
  },
  {
   "cell_type": "code",
   "execution_count": 13,
   "id": "decdd19b",
   "metadata": {},
   "outputs": [
    {
     "data": {
      "text/plain": [
       "{'source': 'https://www.yaozs.com/sms23/', 'title': '氯沙坦钾氢氯噻嗪片'}"
      ]
     },
     "execution_count": 13,
     "metadata": {},
     "output_type": "execute_result"
    }
   ],
   "source": [
    "new_inputs[221]\n",
    "new_metadatas[221]"
   ]
  },
  {
   "cell_type": "code",
   "execution_count": 13,
   "id": "11a9a487",
   "metadata": {},
   "outputs": [],
   "source": [
    "# for idx in range(len(inputs)//10+1):\n",
    "#     my_docs = inputs[idx * 10: (idx + 1) * 10]\n",
    "#     # embed.embed_documents(inputs[idx * 50: (idx + 1) * 50])\n",
    "#     print(len(my_docs))"
   ]
  },
  {
   "cell_type": "code",
   "execution_count": null,
   "id": "afda6404",
   "metadata": {},
   "outputs": [],
   "source": [
    "len(new_inputs)"
   ]
  },
  {
   "cell_type": "code",
   "execution_count": null,
   "id": "a4237696",
   "metadata": {},
   "outputs": [],
   "source": [
    "len(metadatas)"
   ]
  },
  {
   "cell_type": "code",
   "execution_count": 23,
   "id": "589988db",
   "metadata": {},
   "outputs": [],
   "source": [
    "# 总是超时,切换为小批量插入数据库\n",
    "# collection.add(documents=inputs,ids=ids,metadatas=metadatas)"
   ]
  },
  {
   "cell_type": "markdown",
   "id": "f2fb194b",
   "metadata": {},
   "source": [
    "## 方式2"
   ]
  },
  {
   "cell_type": "code",
   "execution_count": 12,
   "id": "4a14bf8a",
   "metadata": {},
   "outputs": [],
   "source": [
    "now_count = 1000 + 1100 + 3560+300+200+360+200 +200+320+1400+600+495+110+3320+360+200+150+875+60+40+340+720+150+120+300+300+1050+150+650+50+40+90+90+50+300+450+200+3400+900\n",
    "now_count"
   ]
  },
  {
   "cell_type": "code",
   "execution_count": 13,
   "id": "140663b3",
   "metadata": {},
   "outputs": [
    {
     "data": {
      "text/plain": [
       "49850"
      ]
     },
     "execution_count": 13,
     "metadata": {},
     "output_type": "execute_result"
    }
   ],
   "source": [
    "#断点续传 1000 + 1100 + 3560 + 300 + 200 +200 +320+1400+600+495+110+3320 + 360+200+150+875+60+40+340+720 +150+120+300+300+1050+150+650+50+90+90\n",
    "inputs= new_inputs[now_count :50000]\n",
    "metadatas = new_metadatas[now_count :50000]\n",
    "ids = new_ids[now_count :50000]\n",
    "\n",
    "len(inputs) // 50\n",
    "len(metadatas)// 50\n",
    "len(ids)"
   ]
  },
  {
   "cell_type": "code",
   "execution_count": 14,
   "id": "b2ef9762",
   "metadata": {},
   "outputs": [
    {
     "name": "stdout",
     "output_type": "stream",
     "text": [
      "当前Embedding批次：0 : 50\n",
      "------本次开始执行--------\n",
      "当前Embedding批次：0 : 50 发生了错误:HTTPConnectionPool(host='direct.virtaicloud.com', port=28511): Read timed out. (read timeout=None)\n",
      "------本次开始执行--------\n",
      "------本次执行成功--------\n",
      "当前Embedding批次：0 : 50 重试成功\n",
      "当前Embedding批次：50 : 100\n",
      "------本次开始执行--------\n",
      "------本次执行成功--------\n",
      "当前Embedding批次：50 : 100: 插入数据库完成\n",
      "当前Embedding批次：100 : 150\n",
      "------本次开始执行--------\n"
     ]
    }
   ],
   "source": [
    "batch_num = 50\n",
    "\n",
    "for idx in range(len(inputs)//batch_num + 1):\n",
    "    \n",
    "    try:\n",
    "        print(f\"当前Embedding批次：{idx * batch_num} : {(idx + 1) * batch_num}\")\n",
    "        current_batch_inputs = inputs[idx * batch_num: (idx + 1) * batch_num]\n",
    "        current_batch_metadatas = metadatas[idx * batch_num: (idx + 1) * batch_num]\n",
    "        current_batch_ids = ids[idx * batch_num: (idx + 1) * batch_num]\n",
    "        collection.add(documents=current_batch_inputs,ids=current_batch_ids,metadatas=current_batch_metadatas)\n",
    "        print(f\"当前Embedding批次：{idx * batch_num} : {(idx + 1) * batch_num}: 插入数据库完成\")\n",
    "    except Exception as  e:\n",
    "        try:\n",
    "            print(f\"当前Embedding批次：{idx * batch_num} : {(idx + 1) * batch_num} 发生了错误:{e}\")\n",
    "            collection.add(documents=current_batch_inputs,ids=current_batch_ids,metadatas=current_batch_metadatas)\n",
    "            print(f\"当前Embedding批次：{idx * batch_num} : {(idx + 1) * batch_num} 重试成功\")\n",
    "        except Exception as e:\n",
    "            print(f\"当前Embedding批次：{idx * batch_num} : {(idx + 1) * batch_num} 发生了错误:{e}\")\n",
    "            \n",
    "            # embed = XinferenceEmbeddings(\n",
    "            #     server_url=configs[\"embedding\"][\"server_url\"], model_uid=configs[\"embedding\"][\"model_uid\"]\n",
    "            # )\n",
    "            # collection = chroma_client.get_or_create_collection(name=\"testDB\",embedding_function=MyEmbeddingFunction2())\n",
    "            collection.add(documents=current_batch_inputs,ids=current_batch_ids,metadatas=current_batch_metadatas)\n",
    "            print(f\"当前Embedding批次：{idx * batch_num} : {(idx + 1) * batch_num} 再次重试成功\")\n",
    "    "
   ]
  },
  {
   "cell_type": "code",
   "execution_count": null,
   "id": "b91ec56b",
   "metadata": {},
   "outputs": [],
   "source": [
    "ids[0]"
   ]
  },
  {
   "cell_type": "code",
   "execution_count": null,
   "id": "521015b4",
   "metadata": {},
   "outputs": [],
   "source": [
    "# 通过ID获取数据\n",
    "collection.get(ids='c058f6685b734f4d89ba5e0931950e51')"
   ]
  },
  {
   "cell_type": "code",
   "execution_count": null,
   "id": "e3905a03",
   "metadata": {},
   "outputs": [],
   "source": [
    "query_embed = embed.embed_query(\"感冒、咳嗽\")\n",
    "results = collection.query(\n",
    "    query_embeddings=query_embed, # Chroma will embed this for you\n",
    "    n_results=1 # how many results to return\n",
    ")\n",
    "print(results)"
   ]
  },
  {
   "cell_type": "code",
   "execution_count": 28,
   "id": "625b1cf0",
   "metadata": {},
   "outputs": [],
   "source": [
    "def customer_retriever(q:str):\n",
    "    query_embed = embed.embed_query(q)\n",
    "    results = collection.query(\n",
    "        query_embeddings=query_embed, # Chroma will embed this for you\n",
    "        n_results=1 # how many results to return\n",
    "    )\n",
    "    # print(results)\n",
    "    return results"
   ]
  },
  {
   "cell_type": "code",
   "execution_count": null,
   "id": "a3c44837",
   "metadata": {},
   "outputs": [],
   "source": [
    "customer_retriever(\"cehsi\")"
   ]
  }
 ],
 "metadata": {
  "kernelspec": {
   "display_name": "Python 3 (ipykernel)",
   "language": "python",
   "name": "python3"
  },
  "language_info": {
   "codemirror_mode": {
    "name": "ipython",
    "version": 3
   },
   "file_extension": ".py",
   "mimetype": "text/x-python",
   "name": "python",
   "nbconvert_exporter": "python",
   "pygments_lexer": "ipython3",
   "version": "3.11.7"
  }
 },
 "nbformat": 4,
 "nbformat_minor": 5
}
