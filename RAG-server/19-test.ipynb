{
 "cells": [
  {
   "cell_type": "code",
   "execution_count": 1,
   "metadata": {},
   "outputs": [],
   "source": [
    "from fastapi import FastAPI, HTTPException\n",
    "from pydantic import BaseModel\n",
    "from langchain_community.embeddings import XinferenceEmbeddings\n",
    "import chromadb\n",
    "from langchain.chat_models import ChatOpenAI\n",
    "from langchain.prompts import PromptTemplate\n",
    "from langchain.chains import LLMChain\n",
    "from typing import List, Dict\n",
    "import os\n",
    "\n",
    "import json\n",
    "from langserve import add_routes\n"
   ]
  },
  {
   "cell_type": "code",
   "execution_count": 2,
   "metadata": {},
   "outputs": [],
   "source": [
    "chroma_client = chromadb.HttpClient(host='direct.virtaicloud.com', port=20994)"
   ]
  },
  {
   "cell_type": "code",
   "execution_count": 3,
   "metadata": {},
   "outputs": [
    {
     "name": "stderr",
     "output_type": "stream",
     "text": [
      "d:\\TOOL\\anaconda3\\Lib\\site-packages\\langchain_core\\_api\\deprecation.py:141: LangChainDeprecationWarning: The class `ChatOpenAI` was deprecated in LangChain 0.0.10 and will be removed in 0.3.0. An updated version of the class exists in the langchain-openai package and should be used instead. To use it run `pip install -U langchain-openai` and import as `from langchain_openai import ChatOpenAI`.\n",
      "  warn_deprecated(\n"
     ]
    }
   ],
   "source": [
    "\n",
    "# 1. 连接数据库\n",
    "# 获取embeddings模型 - bge\n",
    "embed = XinferenceEmbeddings(\n",
    "    server_url=\"http://direct.virtaicloud.com:28511\", model_uid=\"custom-bge-m3\"\n",
    ")\n",
    "\n",
    "chroma_client = chromadb.HttpClient(host='direct.virtaicloud.com', port=20994)\n",
    "\n",
    "# 自定义embedding函数\n",
    "class MyEmbeddingFunction:\n",
    "    def __call__(self, input: str) -> list[float]:\n",
    "        # embed the documents somehow\n",
    "        print(\"------执行了--------\")\n",
    "        embeddings = embed.embed_documents([input])\n",
    "        return embeddings[0]\n",
    "\n",
    "# 获取集合\n",
    "collection = chroma_client.get_or_create_collection(name=\"testDB4\", embedding_function=MyEmbeddingFunction())\n",
    "\n",
    "# 2. 引入大模型\n",
    "def get_self_model_connect(base_url=None, api_key=None, model_name=None, stream_option=None):\n",
    "    \"\"\"\n",
    "    获取自定义模型连接对象\n",
    "    \"\"\"\n",
    "    # 连接大模型\n",
    "    llm = ChatOpenAI(\n",
    "        base_url=base_url,\n",
    "        openai_api_key=api_key,\n",
    "        model_name=model_name,\n",
    "        temperature=0.01,\n",
    "        max_tokens=512,\n",
    "        streaming=stream_option\n",
    "    )\n",
    "    return llm\n",
    "\n",
    "llm = get_self_model_connect(\n",
    "    base_url=\"http://direct.virtaicloud.com:25933/v1\",\n",
    "    api_key=\"XX\",\n",
    "    model_name=\"qwen-vl-chat\",\n",
    "    stream_option=True\n",
    ")\n",
    "\n",
    "def customer_retriever(q:str,embed,collection):\n",
    "    \"\"\"\n",
    "    自定义检索器\n",
    "    @Param q: 查询的问题\n",
    "    \"\"\"\n",
    "    query_embed = embed.embed_query(q)\n",
    "    results = collection.query(\n",
    "        query_embeddings=query_embed, # Chroma will embed this for you\n",
    "        n_results=1 # how many results to return\n",
    "    )\n",
    "    # print(results)\n",
    "    return results\n",
    "\n",
    "\n",
    "# 多角度转换问题\n",
    "def get_multi_query(query:str):\n",
    "    \"\"\"\n",
    "    多查询策略\n",
    "    @param query: 问题\n",
    "    @return： 多查询结果\n",
    "    \"\"\"\n",
    "    import requests\n",
    "\n",
    "    # 注意请求路径：常规路径后面添加一个 invoke\n",
    "    url = \" http://direct.virtaicloud.com:42383/intention_rec/invoke\"\n",
    "\n",
    "    data = {\"src_question\":query}\n",
    "\n",
    "    # 注意传参格式：外面包一层 input\n",
    "    response = requests.post(url=url, json={\"input\": data})\n",
    "    res = response.json()[\"output\"][\"content\"]\n",
    "\n",
    "    # str-->json 转换\n",
    "    json_decoder = json.JSONDecoder()\n",
    "    res_multi_query = json_decoder.decode(res)\n",
    "    \n",
    "    # print(response.json())\n",
    "    return res_multi_query\n",
    "\n",
    "def retrieve_and_answer(question):\n",
    "    from collections import Counter\n",
    "    \"\"\"\n",
    "    检索并回答\n",
    "    @Param q: 查询的问题\n",
    "    \"\"\"\n",
    "    print(question)\n",
    "    # 获取多查询\n",
    "    res_multi_query = get_multi_query(query=question)\n",
    "    try:\n",
    "\n",
    "        src_question = res_multi_query[\"src_question\"]\n",
    "        new_question1 = res_multi_query[\"new_question1\"]\n",
    "        new_question2 = res_multi_query[\"new_question2\"]\n",
    "        new_question3 = res_multi_query[\"new_question3\"]\n",
    "\n",
    "        results0 = customer_retriever(src_question,embed,collection)\n",
    "        results1 = customer_retriever(new_question1,embed,collection)\n",
    "        results2 = customer_retriever(new_question2,embed,collection)\n",
    "        results3 = customer_retriever(new_question3,embed,collection)\n",
    "        \n",
    "        print(results0['documents'][0])\n",
    "        titles = []\n",
    "        titles.append(results0[\"metadatas\"][0][0][\"title\"])\n",
    "        titles.append(results1[\"metadatas\"][0][0][\"title\"])\n",
    "        titles.append(results2[\"metadatas\"][0][0][\"title\"])\n",
    "        titles.append(results3[\"metadatas\"][0][0][\"title\"])\n",
    "        \n",
    "        \n",
    "        # 获取最多的元素\n",
    "        # frequency_count = Counter(titles)\n",
    "        # most_frequent = frequency_count.most_common(1)[0][0]\n",
    "        # TODO: 待完善\n",
    "        if set(titles) < 2:\n",
    "            return {\n",
    "                \"content\":results['documents'][0],\n",
    "                \"metadatas\":results[\"metadatas\"][0][0]\n",
    "            }\n",
    "        else: \n",
    "            return None\n",
    "    except Exception as e:\n",
    "        print(\"多查询策略失败，请检查接口是否正常\")\n",
    "        results = customer_retriever(question,embed,collection)\n",
    "        if results[\"distances\"][0][0] != None and results[\"distances\"][0][0] < 0.8:\n",
    "            return {\n",
    "                \"content\":results['documents'][0],\n",
    "                \"metadatas\":results[\"metadatas\"][0][0]\n",
    "            }\n",
    "        else:\n",
    "            return None\n",
    "\n",
    "\n"
   ]
  },
  {
   "cell_type": "code",
   "execution_count": 4,
   "metadata": {},
   "outputs": [],
   "source": [
    "def customer_search(query,collection,embed):\n",
    "    \"\"\"\n",
    "    自定义检索器\n",
    "    @Param q: 查询的问题\n",
    "    \"\"\"\n",
    "    query_embed = embed.embed_query(query)\n",
    "    results = collection.query(\n",
    "        query_embeddings=query_embed, # Chroma will embed this for you\n",
    "        n_results=1 # how many results to return\n",
    "    )\n",
    "    # print(results)\n",
    "    return results\n"
   ]
  },
  {
   "cell_type": "code",
   "execution_count": 5,
   "metadata": {},
   "outputs": [],
   "source": [
    "from langchain_core.retrievers import BaseRetriever\n",
    "from langchain_core.callbacks import CallbackManagerForRetrieverRun\n",
    "from langchain_core.documents import Document\n",
    "\n",
    "class MyVectorStoreRetriever(BaseRetriever):\n",
    "    \"\"\"\n",
    "    基于向量数据库的 Retriever 实现\n",
    "    \"\"\"\n",
    "\n",
    "    def _get_relevant_documents(self, query: str, *, run_manager: CallbackManagerForRetrieverRun) -> List[Document]:\n",
    "        \"\"\"Retriever 的同步实现\"\"\"\n",
    "\n",
    "        from chromadb import QueryResult\n",
    "        query_result: QueryResult = customer_search(query,collection,embed)\n",
    "        print(query_result)\n",
    "        if query_result:\n",
    "            docs = query_result[\"documents\"]\n",
    "            if docs:\n",
    "                return [Document(page_content=doc[0]) for doc in docs]\n",
    "        return []\n"
   ]
  },
  {
   "cell_type": "code",
   "execution_count": 6,
   "metadata": {},
   "outputs": [],
   "source": [
    "myRetriever = MyVectorStoreRetriever()"
   ]
  },
  {
   "cell_type": "code",
   "execution_count": 7,
   "metadata": {},
   "outputs": [
    {
     "name": "stdout",
     "output_type": "stream",
     "text": [
      "{'ids': [['c4eef4d6350b465188f899ac19227a7b']], 'distances': [[0.6329997777938843]], 'embeddings': None, 'metadatas': [[{'source': 'https://www.yaozs.com/sms4173/', 'title': '氨咖黄敏胶囊'}]], 'documents': [[\"'适应症': '适用于缓解普通感冒及流行性感冒引起的发热、头痛、四肢酸痛、打喷嚏、流鼻涕、鼻塞、咽痛等症状。', '规格': '----', '不良反应': '有时有轻度头晕、乏力、恶心、上腹不适、口干、食欲缺乏和皮疹等，可自行恢复。', '用法用量': '口服。成人，一次1～2粒，一日3次。', '禁忌': '严重肝肾功能不全者禁用。', '注意事项': '1. 用药3-7天，症状未缓解，请咨询医师或药师。\\\\n2. 服用本品期间不得饮酒或含有酒精的饮料。\\\\n3. 不能同时服用与本品成份相似的其他抗感冒药。\\\\n4. 前列腺肥大、青光眼等患者以及老年人应在医师指导下使用。\\\\n5. 肝、肾功能不全者慎用。\\\\n6. 孕妇及哺乳期妇女慎用。\\\\n7. 服药期间不得驾驶机、车、船、从事高空作业、机械作业及操作精密仪器。\\\\n8. 如服用过量或出现严重不良反应，应立即就医。\\\\n9. 对本品过敏者禁用，过敏体质者慎用。\\\\n10. 本品性状发生改变时禁止使用。\\\\n11. 请将本品放在儿童不能接触的地方。\\\\n12. 儿童必须在成人监护下使用。\\\\n13. 如正在使用其他药品，使用本品前请咨询医师或药师。',\"]], 'uris': None, 'data': None, 'included': ['metadatas', 'documents', 'distances']}\n"
     ]
    },
    {
     "data": {
      "text/plain": [
       "[Document(page_content=\"'适应症': '适用于缓解普通感冒及流行性感冒引起的发热、头痛、四肢酸痛、打喷嚏、流鼻涕、鼻塞、咽痛等症状。', '规格': '----', '不良反应': '有时有轻度头晕、乏力、恶心、上腹不适、口干、食欲缺乏和皮疹等，可自行恢复。', '用法用量': '口服。成人，一次1～2粒，一日3次。', '禁忌': '严重肝肾功能不全者禁用。', '注意事项': '1. 用药3-7天，症状未缓解，请咨询医师或药师。\\\\n2. 服用本品期间不得饮酒或含有酒精的饮料。\\\\n3. 不能同时服用与本品成份相似的其他抗感冒药。\\\\n4. 前列腺肥大、青光眼等患者以及老年人应在医师指导下使用。\\\\n5. 肝、肾功能不全者慎用。\\\\n6. 孕妇及哺乳期妇女慎用。\\\\n7. 服药期间不得驾驶机、车、船、从事高空作业、机械作业及操作精密仪器。\\\\n8. 如服用过量或出现严重不良反应，应立即就医。\\\\n9. 对本品过敏者禁用，过敏体质者慎用。\\\\n10. 本品性状发生改变时禁止使用。\\\\n11. 请将本品放在儿童不能接触的地方。\\\\n12. 儿童必须在成人监护下使用。\\\\n13. 如正在使用其他药品，使用本品前请咨询医师或药师。',\")]"
      ]
     },
     "execution_count": 7,
     "metadata": {},
     "output_type": "execute_result"
    }
   ],
   "source": [
    "myRetriever.invoke(input=\"感冒\")"
   ]
  },
  {
   "cell_type": "code",
   "execution_count": 8,
   "metadata": {},
   "outputs": [],
   "source": [
    "from langchain_core.prompts import ChatPromptTemplate\n",
    "# 可执行的占位符\n",
    "from langchain_core.runnables import RunnablePassthrough\n",
    "from langchain_core.output_parsers import StrOutputParser\n",
    "prompt = ChatPromptTemplate.from_messages([\n",
    "  (\"human\", \"\"\"You are an assistant for question-answering tasks. \n",
    "Use the following pieces of retrieved context to answer the question. \n",
    "If you don't know the answer, just say that you don't know. \n",
    "如果上下文中没有出现跟问题相关的信息，请直接回答不知道即可！\n",
    "Use three sentences maximum and keep the answer concise.\n",
    "Question: {question} \n",
    "Context: {context} \n",
    "Answer:\"\"\")\n",
    "])"
   ]
  },
  {
   "cell_type": "code",
   "execution_count": 9,
   "metadata": {},
   "outputs": [
    {
     "name": "stdout",
     "output_type": "stream",
     "text": [
      "You are an assistant for question-answering tasks. \n",
      "Use the following pieces of retrieved context to answer the question. \n",
      "If you don't know the answer, just say that you don't know. \n",
      "如果上下文中没有出现跟问题相关的信息，请直接回答不知道即可！\n",
      "Use three sentences maximum and keep the answer concise.\n",
      "Question: 我是问题 \n",
      "Context: 我的参考上下文 \n",
      "Answer:\n"
     ]
    }
   ],
   "source": [
    "print(prompt.invoke(input={\"context\": \"我的参考上下文\", \"question\":\"我是问题\"}).messages[0].content)"
   ]
  },
  {
   "cell_type": "code",
   "execution_count": 10,
   "metadata": {},
   "outputs": [],
   "source": [
    "# 把检索到的4条上下文的文本使用 \\n\\n 练成一个大的字符串\n",
    "def format_docs(docs):\n",
    "    return \"\\n\\n\".join(doc.page_content for doc in docs)"
   ]
  },
  {
   "cell_type": "code",
   "execution_count": 11,
   "metadata": {},
   "outputs": [],
   "source": [
    "rag_chain = (\n",
    "    {\"context\": myRetriever | format_docs,\n",
    "     \"question\": RunnablePassthrough()}\n",
    "    | prompt\n",
    "    | llm\n",
    "    | StrOutputParser()\n",
    ")\n"
   ]
  },
  {
   "cell_type": "code",
   "execution_count": 12,
   "metadata": {},
   "outputs": [
    {
     "name": "stdout",
     "output_type": "stream",
     "text": [
      "{'ids': [['c4eef4d6350b465188f899ac19227a7b']], 'distances': [[0.6329997777938843]], 'embeddings': None, 'metadatas': [[{'source': 'https://www.yaozs.com/sms4173/', 'title': '氨咖黄敏胶囊'}]], 'documents': [[\"'适应症': '适用于缓解普通感冒及流行性感冒引起的发热、头痛、四肢酸痛、打喷嚏、流鼻涕、鼻塞、咽痛等症状。', '规格': '----', '不良反应': '有时有轻度头晕、乏力、恶心、上腹不适、口干、食欲缺乏和皮疹等，可自行恢复。', '用法用量': '口服。成人，一次1～2粒，一日3次。', '禁忌': '严重肝肾功能不全者禁用。', '注意事项': '1. 用药3-7天，症状未缓解，请咨询医师或药师。\\\\n2. 服用本品期间不得饮酒或含有酒精的饮料。\\\\n3. 不能同时服用与本品成份相似的其他抗感冒药。\\\\n4. 前列腺肥大、青光眼等患者以及老年人应在医师指导下使用。\\\\n5. 肝、肾功能不全者慎用。\\\\n6. 孕妇及哺乳期妇女慎用。\\\\n7. 服药期间不得驾驶机、车、船、从事高空作业、机械作业及操作精密仪器。\\\\n8. 如服用过量或出现严重不良反应，应立即就医。\\\\n9. 对本品过敏者禁用，过敏体质者慎用。\\\\n10. 本品性状发生改变时禁止使用。\\\\n11. 请将本品放在儿童不能接触的地方。\\\\n12. 儿童必须在成人监护下使用。\\\\n13. 如正在使用其他药品，使用本品前请咨询医师或药师。',\"]], 'uris': None, 'data': None, 'included': ['metadatas', 'documents', 'distances']}\n"
     ]
    },
    {
     "data": {
      "text/plain": [
       "'感冒是一种常见的疾病，通常由普通感冒或流行性感冒引起。本品适用于缓解感冒症状，如发热、头痛、四肢酸痛、打喷嚏、流鼻涕、鼻塞、咽痛等。使用本品时应注意遵医嘱，不能同时服用与本品成份相似的其他抗感冒药，孕妇及哺乳期妇女慎用。如果出现严重不良反应，应立即就医。'"
      ]
     },
     "execution_count": 12,
     "metadata": {},
     "output_type": "execute_result"
    }
   ],
   "source": [
    "rag_chain.invoke(input=\"感冒\")"
   ]
  },
  {
   "cell_type": "markdown",
   "metadata": {},
   "source": [
    "### 汇总"
   ]
  },
  {
   "cell_type": "code",
   "execution_count": 13,
   "metadata": {},
   "outputs": [],
   "source": [
    "from fastapi import FastAPI, HTTPException\n",
    "from pydantic import BaseModel\n",
    "from langchain_community.embeddings import XinferenceEmbeddings\n",
    "import chromadb\n",
    "from langchain.chat_models import ChatOpenAI\n",
    "from langchain.prompts import PromptTemplate\n",
    "from langchain.chains import LLMChain\n",
    "from typing import List, Dict\n",
    "import os\n",
    "\n",
    "from langserve import add_routes\n",
    "\n",
    "app = FastAPI()\n",
    "\n",
    "# 1. 连接数据库\n",
    "# 获取embeddings模型 - bge\n",
    "embed = XinferenceEmbeddings(\n",
    "    server_url=\"http://direct.virtaicloud.com:28511\", model_uid=\"custom-bge-m3\"\n",
    ")\n",
    "\n",
    "chroma_client = chromadb.HttpClient(host='direct.virtaicloud.com', port=20994)\n",
    "\n",
    "# 自定义embedding函数\n",
    "class MyEmbeddingFunction:\n",
    "    def __call__(self, input: str) -> list[float]:\n",
    "        # embed the documents somehow\n",
    "        print(\"------执行了--------\")\n",
    "        embeddings = embed.embed_documents([input])\n",
    "        return embeddings[0]\n",
    "\n",
    "# 获取集合\n",
    "collection = chroma_client.get_or_create_collection(name=\"testDB4\", embedding_function=MyEmbeddingFunction())\n",
    "\n",
    "# 2. 引入大模型\n",
    "def get_self_model_connect(base_url=None, api_key=None, model_name=None, stream_option=None):\n",
    "    \"\"\"\n",
    "    获取自定义模型连接对象\n",
    "    \"\"\"\n",
    "    # 连接大模型\n",
    "    llm = ChatOpenAI(\n",
    "        base_url=base_url,\n",
    "        openai_api_key=api_key,\n",
    "        model_name=model_name,\n",
    "        temperature=0.01,\n",
    "        max_tokens=512,\n",
    "        streaming=stream_option\n",
    "    )\n",
    "    return llm\n",
    "\n",
    "llm = get_self_model_connect(\n",
    "    base_url=\"http://direct.virtaicloud.com:25933/v1\",\n",
    "    api_key=\"XX\",\n",
    "    model_name=\"qwen-vl-chat\",\n",
    "    stream_option=False\n",
    ")\n",
    "\n",
    "# 3. 生成多种提问方式\n",
    "def generate_variations(question: str) -> List[str]:\n",
    "    role_description = \"你是一个专业的信息重组专家，你的任务是帮助用户提供多种不同的提问方式，以便从不同的角度获取信息。\"\n",
    "    task_description = \"请根据提供的问题，给出至少3种不同的提问方式。每种提问方式都应该尽量覆盖问题的不同方面，同时保持问题的主旨不变。\"\n",
    "    template = f\"\"\"{role_description}\n",
    "    {task_description}\n",
    "    问题：{question}\n",
    "    不同的提问方式：\n",
    "    1. \n",
    "    2. \n",
    "    3. \n",
    "    \"\"\"\n",
    "    prompt = PromptTemplate(template=template, input_variables=[\"question\"])\n",
    "    chain = LLMChain(llm=llm, prompt=prompt)\n",
    "    variations = chain.run(question=question)\n",
    "    variations_list = [v.strip() for v in variations.split('\\n') if v.strip()]\n",
    "    return variations_list\n",
    "\n",
    "def ask_rag_system(question: str) -> List[dict]:\n",
    "    query_embed = embed.embed_query(question)\n",
    "    results = collection.query(query_embeddings=query_embed, n_results=1)\n",
    "    parsed_results = []\n",
    "\n",
    "    if 'documents' in results and 'metadatas' in results and 'distances' in results:\n",
    "        for doc, meta, distance in zip(results['documents'][0], results['metadatas'][0], results['distances'][0]):\n",
    "            parsed_result = {\n",
    "                'distance': distance,\n",
    "                'metadata': meta,\n",
    "                'document': doc\n",
    "            }\n",
    "            parsed_results.append(parsed_result)\n",
    "\n",
    "    return parsed_results\n",
    "\n",
    "def deduplicate_and_sort_results(results: List[List[Dict[str, any]]]) -> List[Dict[str, any]]:\n",
    "    flattened_results = [item for sublist in results for item in sublist]\n",
    "    unique_results_dict = {}\n",
    "    for result in flattened_results:\n",
    "        metadata_key = (result['metadata']['source'], result['metadata'].get('title', ''))\n",
    "        if metadata_key not in unique_results_dict:\n",
    "            unique_results_dict[metadata_key] = result\n",
    "        else:\n",
    "            existing_result = unique_results_dict[metadata_key]\n",
    "            existing_result['document'] += '\\n' + result['document']\n",
    "    unique_results = list(unique_results_dict.values())\n",
    "    unique_results.sort(key=lambda x: x['distance'], reverse=True)\n",
    "    return unique_results\n",
    "\n",
    "def generate_answer(question: str, answers: str) -> str:\n",
    "    template = \"\"\"问题：{question}\n",
    "    答案：{answers}\n",
    "    \"\"\"\n",
    "    prompt = PromptTemplate(template=template, input_variables=[\"question\", \"answers\"])\n",
    "    print(prompt)\n",
    "    chain = LLMChain(llm=llm, prompt=prompt)\n",
    "    answer = chain.run(question=question, answers=answers)\n",
    "    return answer\n",
    "\n",
    "\n"
   ]
  },
  {
   "cell_type": "code",
   "execution_count": 14,
   "metadata": {},
   "outputs": [
    {
     "name": "stderr",
     "output_type": "stream",
     "text": [
      "d:\\TOOL\\anaconda3\\Lib\\site-packages\\langchain_core\\_api\\deprecation.py:141: LangChainDeprecationWarning: The class `LLMChain` was deprecated in LangChain 0.1.17 and will be removed in 1.0. Use RunnableSequence, e.g., `prompt | llm` instead.\n",
      "  warn_deprecated(\n",
      "d:\\TOOL\\anaconda3\\Lib\\site-packages\\langchain_core\\_api\\deprecation.py:141: LangChainDeprecationWarning: The method `Chain.run` was deprecated in langchain 0.1.0 and will be removed in 1.0. Use invoke instead.\n",
      "  warn_deprecated(\n"
     ]
    }
   ],
   "source": [
    "\n",
    "# 生成提问变化\n",
    "variations = generate_variations(\"抗癌药物有哪些？\")\n"
   ]
  },
  {
   "cell_type": "code",
   "execution_count": 15,
   "metadata": {},
   "outputs": [
    {
     "data": {
      "text/plain": [
       "['1. 你能列举出所有已知的抗癌药物吗？',\n",
       " '2. 你能详细介绍一下抗癌药物的种类和它们的用途吗？',\n",
       " '3. 你能列举出一些常用的抗癌药物，并解释它们是如何工作的吗？']"
      ]
     },
     "execution_count": 15,
     "metadata": {},
     "output_type": "execute_result"
    }
   ],
   "source": [
    "variations"
   ]
  },
  {
   "cell_type": "code",
   "execution_count": 16,
   "metadata": {},
   "outputs": [
    {
     "data": {
      "text/plain": [
       "[[{'distance': 1.0236133918091508,\n",
       "   'metadata': {'source': 'https://www.yaozs.com/sms13012/', 'title': '穿心莲胶囊'},\n",
       "   'document': \"建促进纤溶，降低低切时血粘度效果肯定。无论体外试验还是口服给药，穿心莲均可显著抑制ADP诱导的血小板一相和二相聚集反应。在体外该药对血小板聚集的抑制作用呈高度的量效关系。穿心莲迅速的抗血小板聚集作用，似与增加cAMP含量的抗血小板药物特点相同。它对内源性、外源性凝血途径中的各种凝血因子及凝血酶作用不大，在体内外却均可使优球蛋白溶解时间（ELT）缩短，提示该药可通过某种途径对纤溶起促进作用。\\\\n6.抗肿瘤：实验证明穿心莲内酯衍生物穿琥氨酸不论大剂量、中剂量，还是小剂量，对肿瘤细胞的生长皆有抑制作用，且随剂量增加作用增强，抑瘤效果确实，稳定。有报道穿心莲能提高机体对肿瘤细胞的免疫反应。通过体外实验发现穿心莲对培养的癌细胞3H-TdR掺入有抑制作用，证实穿心莲对培养的乳腺癌细胞DNA合成具有抑制作用。',\"}],\n",
       " [{'distance': 0.7225680351257324,\n",
       "   'metadata': {'source': 'https://www.yaozs.com/sms1301/', 'title': '安康欣胶囊'},\n",
       "   'document': \"'适应症': '用于肺癌、胃癌、肝癌、食道癌、直肠癌、鼻咽癌、乳腺癌、子宫颈癌、恶性淋巴癌、淋巴细胞性白血病、膀胱癌、颅内肿瘤等。', '规格': '0.5g*45粒', '不良反应': '尚不明确。', '用法用量': '口服，饭后温开水送服。一次4-6粒，一日3次。疗程30天。', '禁忌': '孕妇忌用或遵医嘱。', '注意事项': '请注意掌握剂量，勿超剂量使用。', '孕妇及哺乳期妇女用药': '孕妇忌用。', '儿童用药': '儿童必须在成人监护下使用,遵医嘱。', '老人用药': '老人应在专业医师指导下使用。', '药物相互作用': '老人应在专业医师指导下使用。', '药理毒理': '未进行相关实验且无可供参考数据。', '药代动力学': '未进行相关实验且无可供参考数据。', '贮藏': '置于干燥处，密闭，防潮。', '有效期': '24个月'}\"}],\n",
       " [{'distance': 0.9052976704960313,\n",
       "   'metadata': {'source': 'https://www.yaozs.com/sms13012/', 'title': '穿心莲胶囊'},\n",
       "   'document': \"建促进纤溶，降低低切时血粘度效果肯定。无论体外试验还是口服给药，穿心莲均可显著抑制ADP诱导的血小板一相和二相聚集反应。在体外该药对血小板聚集的抑制作用呈高度的量效关系。穿心莲迅速的抗血小板聚集作用，似与增加cAMP含量的抗血小板药物特点相同。它对内源性、外源性凝血途径中的各种凝血因子及凝血酶作用不大，在体内外却均可使优球蛋白溶解时间（ELT）缩短，提示该药可通过某种途径对纤溶起促进作用。\\\\n6.抗肿瘤：实验证明穿心莲内酯衍生物穿琥氨酸不论大剂量、中剂量，还是小剂量，对肿瘤细胞的生长皆有抑制作用，且随剂量增加作用增强，抑瘤效果确实，稳定。有报道穿心莲能提高机体对肿瘤细胞的免疫反应。通过体外实验发现穿心莲对培养的癌细胞3H-TdR掺入有抑制作用，证实穿心莲对培养的乳腺癌细胞DNA合成具有抑制作用。',\"}]]"
      ]
     },
     "execution_count": 16,
     "metadata": {},
     "output_type": "execute_result"
    }
   ],
   "source": [
    "# 向 RAG 系统提问\n",
    "answers_lists = [ask_rag_system(variation) for variation in variations]\n",
    "\n",
    "answers_lists"
   ]
  },
  {
   "cell_type": "code",
   "execution_count": 17,
   "metadata": {},
   "outputs": [],
   "source": [
    "# 汇总答案\n",
    "aggregated_answers = deduplicate_and_sort_results(answers_lists)\n"
   ]
  },
  {
   "cell_type": "code",
   "execution_count": 18,
   "metadata": {},
   "outputs": [
    {
     "data": {
      "text/plain": [
       "[{'distance': 1.0236133918091508,\n",
       "  'metadata': {'source': 'https://www.yaozs.com/sms13012/', 'title': '穿心莲胶囊'},\n",
       "  'document': \"建促进纤溶，降低低切时血粘度效果肯定。无论体外试验还是口服给药，穿心莲均可显著抑制ADP诱导的血小板一相和二相聚集反应。在体外该药对血小板聚集的抑制作用呈高度的量效关系。穿心莲迅速的抗血小板聚集作用，似与增加cAMP含量的抗血小板药物特点相同。它对内源性、外源性凝血途径中的各种凝血因子及凝血酶作用不大，在体内外却均可使优球蛋白溶解时间（ELT）缩短，提示该药可通过某种途径对纤溶起促进作用。\\\\n6.抗肿瘤：实验证明穿心莲内酯衍生物穿琥氨酸不论大剂量、中剂量，还是小剂量，对肿瘤细胞的生长皆有抑制作用，且随剂量增加作用增强，抑瘤效果确实，稳定。有报道穿心莲能提高机体对肿瘤细胞的免疫反应。通过体外实验发现穿心莲对培养的癌细胞3H-TdR掺入有抑制作用，证实穿心莲对培养的乳腺癌细胞DNA合成具有抑制作用。',\\n建促进纤溶，降低低切时血粘度效果肯定。无论体外试验还是口服给药，穿心莲均可显著抑制ADP诱导的血小板一相和二相聚集反应。在体外该药对血小板聚集的抑制作用呈高度的量效关系。穿心莲迅速的抗血小板聚集作用，似与增加cAMP含量的抗血小板药物特点相同。它对内源性、外源性凝血途径中的各种凝血因子及凝血酶作用不大，在体内外却均可使优球蛋白溶解时间（ELT）缩短，提示该药可通过某种途径对纤溶起促进作用。\\\\n6.抗肿瘤：实验证明穿心莲内酯衍生物穿琥氨酸不论大剂量、中剂量，还是小剂量，对肿瘤细胞的生长皆有抑制作用，且随剂量增加作用增强，抑瘤效果确实，稳定。有报道穿心莲能提高机体对肿瘤细胞的免疫反应。通过体外实验发现穿心莲对培养的癌细胞3H-TdR掺入有抑制作用，证实穿心莲对培养的乳腺癌细胞DNA合成具有抑制作用。',\"},\n",
       " {'distance': 0.7225680351257324,\n",
       "  'metadata': {'source': 'https://www.yaozs.com/sms1301/', 'title': '安康欣胶囊'},\n",
       "  'document': \"'适应症': '用于肺癌、胃癌、肝癌、食道癌、直肠癌、鼻咽癌、乳腺癌、子宫颈癌、恶性淋巴癌、淋巴细胞性白血病、膀胱癌、颅内肿瘤等。', '规格': '0.5g*45粒', '不良反应': '尚不明确。', '用法用量': '口服，饭后温开水送服。一次4-6粒，一日3次。疗程30天。', '禁忌': '孕妇忌用或遵医嘱。', '注意事项': '请注意掌握剂量，勿超剂量使用。', '孕妇及哺乳期妇女用药': '孕妇忌用。', '儿童用药': '儿童必须在成人监护下使用,遵医嘱。', '老人用药': '老人应在专业医师指导下使用。', '药物相互作用': '老人应在专业医师指导下使用。', '药理毒理': '未进行相关实验且无可供参考数据。', '药代动力学': '未进行相关实验且无可供参考数据。', '贮藏': '置于干燥处，密闭，防潮。', '有效期': '24个月'}\"}]"
      ]
     },
     "execution_count": 18,
     "metadata": {},
     "output_type": "execute_result"
    }
   ],
   "source": [
    "aggregated_answers"
   ]
  },
  {
   "cell_type": "code",
   "execution_count": 19,
   "metadata": {},
   "outputs": [
    {
     "name": "stdout",
     "output_type": "stream",
     "text": [
      "input_variables=['answers', 'question'] template='问题：{question}\\n    答案：{answers}\\n    '\n"
     ]
    }
   ],
   "source": [
    "# 生成最终答案\n",
    "final_answer = generate_answer(\"抗癌药物有哪些？\", str(aggregated_answers))"
   ]
  },
  {
   "cell_type": "code",
   "execution_count": 20,
   "metadata": {},
   "outputs": [
    {
     "data": {
      "text/plain": [
       "'抗癌药物包括穿心莲胶囊、安康欣胶囊等。'"
      ]
     },
     "execution_count": 20,
     "metadata": {},
     "output_type": "execute_result"
    }
   ],
   "source": [
    "final_answer"
   ]
  },
  {
   "cell_type": "code",
   "execution_count": 21,
   "metadata": {},
   "outputs": [],
   "source": [
    "from langchain_core.retrievers import BaseRetriever\n",
    "from langchain_core.callbacks import CallbackManagerForRetrieverRun\n",
    "from langchain_core.documents import Document\n",
    "class MyVectorStoreRetriever(BaseRetriever):\n",
    "    \"\"\"\n",
    "    基于向量数据库的 Retriever 实现\n",
    "    \"\"\"\n",
    "\n",
    "    def _get_relevant_documents(self, query: str, *, run_manager: CallbackManagerForRetrieverRun) -> List[Document]:\n",
    "        \"\"\"Retriever 的同步实现\"\"\"\n",
    "\n",
    "        variations = generate_variations(\"抗癌药物有哪些？\")\n",
    "        answers_lists = [ask_rag_system(variation) for variation in variations]\n",
    "        aggregated_answers = deduplicate_and_sort_results(answers_lists)\n",
    "        return aggregated_answers\n"
   ]
  },
  {
   "cell_type": "code",
   "execution_count": 22,
   "metadata": {},
   "outputs": [
    {
     "data": {
      "text/plain": [
       "[{'distance': 1.0236133918091508,\n",
       "  'metadata': {'source': 'https://www.yaozs.com/sms13012/', 'title': '穿心莲胶囊'},\n",
       "  'document': \"建促进纤溶，降低低切时血粘度效果肯定。无论体外试验还是口服给药，穿心莲均可显著抑制ADP诱导的血小板一相和二相聚集反应。在体外该药对血小板聚集的抑制作用呈高度的量效关系。穿心莲迅速的抗血小板聚集作用，似与增加cAMP含量的抗血小板药物特点相同。它对内源性、外源性凝血途径中的各种凝血因子及凝血酶作用不大，在体内外却均可使优球蛋白溶解时间（ELT）缩短，提示该药可通过某种途径对纤溶起促进作用。\\\\n6.抗肿瘤：实验证明穿心莲内酯衍生物穿琥氨酸不论大剂量、中剂量，还是小剂量，对肿瘤细胞的生长皆有抑制作用，且随剂量增加作用增强，抑瘤效果确实，稳定。有报道穿心莲能提高机体对肿瘤细胞的免疫反应。通过体外实验发现穿心莲对培养的癌细胞3H-TdR掺入有抑制作用，证实穿心莲对培养的乳腺癌细胞DNA合成具有抑制作用。',\\n建促进纤溶，降低低切时血粘度效果肯定。无论体外试验还是口服给药，穿心莲均可显著抑制ADP诱导的血小板一相和二相聚集反应。在体外该药对血小板聚集的抑制作用呈高度的量效关系。穿心莲迅速的抗血小板聚集作用，似与增加cAMP含量的抗血小板药物特点相同。它对内源性、外源性凝血途径中的各种凝血因子及凝血酶作用不大，在体内外却均可使优球蛋白溶解时间（ELT）缩短，提示该药可通过某种途径对纤溶起促进作用。\\\\n6.抗肿瘤：实验证明穿心莲内酯衍生物穿琥氨酸不论大剂量、中剂量，还是小剂量，对肿瘤细胞的生长皆有抑制作用，且随剂量增加作用增强，抑瘤效果确实，稳定。有报道穿心莲能提高机体对肿瘤细胞的免疫反应。通过体外实验发现穿心莲对培养的癌细胞3H-TdR掺入有抑制作用，证实穿心莲对培养的乳腺癌细胞DNA合成具有抑制作用。',\"},\n",
       " {'distance': 0.7225680351257324,\n",
       "  'metadata': {'source': 'https://www.yaozs.com/sms1301/', 'title': '安康欣胶囊'},\n",
       "  'document': \"'适应症': '用于肺癌、胃癌、肝癌、食道癌、直肠癌、鼻咽癌、乳腺癌、子宫颈癌、恶性淋巴癌、淋巴细胞性白血病、膀胱癌、颅内肿瘤等。', '规格': '0.5g*45粒', '不良反应': '尚不明确。', '用法用量': '口服，饭后温开水送服。一次4-6粒，一日3次。疗程30天。', '禁忌': '孕妇忌用或遵医嘱。', '注意事项': '请注意掌握剂量，勿超剂量使用。', '孕妇及哺乳期妇女用药': '孕妇忌用。', '儿童用药': '儿童必须在成人监护下使用,遵医嘱。', '老人用药': '老人应在专业医师指导下使用。', '药物相互作用': '老人应在专业医师指导下使用。', '药理毒理': '未进行相关实验且无可供参考数据。', '药代动力学': '未进行相关实验且无可供参考数据。', '贮藏': '置于干燥处，密闭，防潮。', '有效期': '24个月'}\"}]"
      ]
     },
     "execution_count": 22,
     "metadata": {},
     "output_type": "execute_result"
    }
   ],
   "source": [
    "myRetriever = MyVectorStoreRetriever()\n",
    "question = \"抗癌药物有哪些？\"\n",
    "myRetriever.invoke(input=question)"
   ]
  },
  {
   "cell_type": "code",
   "execution_count": 23,
   "metadata": {},
   "outputs": [],
   "source": [
    "from langchain_core.prompts import ChatPromptTemplate\n",
    "# 可执行的占位符\n",
    "from langchain_core.runnables import RunnablePassthrough\n",
    "from langchain_core.output_parsers import StrOutputParser\n",
    "prompt = ChatPromptTemplate.from_messages([\n",
    "  (\"human\", \"\"\"You are an assistant for question-answering tasks. \n",
    "Use the following pieces of retrieved context to answer the question. \n",
    "If you don't know the answer, just say that you don't know. \n",
    "如果上下文中没有出现跟问题相关的信息，请直接回答不知道即可！\n",
    "Use three sentences maximum and keep the answer concise.\n",
    "Question: {question} \n",
    "Context: {context} \n",
    "Answer:\"\"\")\n",
    "])"
   ]
  },
  {
   "cell_type": "code",
   "execution_count": 24,
   "metadata": {},
   "outputs": [],
   "source": [
    "rag_chain = (\n",
    "    {\"context\": myRetriever,\n",
    "     \"question\": RunnablePassthrough()}\n",
    "    | prompt\n",
    "    | llm\n",
    "    | StrOutputParser()\n",
    ")"
   ]
  },
  {
   "cell_type": "code",
   "execution_count": 25,
   "metadata": {},
   "outputs": [
    {
     "data": {
      "text/plain": [
       "'抗癌药物包括穿心莲胶囊、安康欣胶囊等。'"
      ]
     },
     "execution_count": 25,
     "metadata": {},
     "output_type": "execute_result"
    }
   ],
   "source": [
    "rag_chain.invoke(input=question)"
   ]
  },
  {
   "cell_type": "code",
   "execution_count": 26,
   "metadata": {},
   "outputs": [],
   "source": [
    "import requests\n",
    "import json"
   ]
  },
  {
   "cell_type": "code",
   "execution_count": 27,
   "metadata": {},
   "outputs": [
    {
     "ename": "ConnectionError",
     "evalue": "HTTPConnectionPool(host='127.0.0.1', port=8000): Max retries exceeded with url: /rag_asg/invoke (Caused by NewConnectionError('<urllib3.connection.HTTPConnection object at 0x000002BBE8A0AE50>: Failed to establish a new connection: [WinError 10061] 由于目标计算机积极拒绝，无法连接。'))",
     "output_type": "error",
     "traceback": [
      "\u001b[1;31m---------------------------------------------------------------------------\u001b[0m",
      "\u001b[1;31mConnectionRefusedError\u001b[0m                    Traceback (most recent call last)",
      "File \u001b[1;32md:\\TOOL\\anaconda3\\Lib\\site-packages\\urllib3\\connection.py:203\u001b[0m, in \u001b[0;36mHTTPConnection._new_conn\u001b[1;34m(self)\u001b[0m\n\u001b[0;32m    202\u001b[0m \u001b[38;5;28;01mtry\u001b[39;00m:\n\u001b[1;32m--> 203\u001b[0m     sock \u001b[38;5;241m=\u001b[39m connection\u001b[38;5;241m.\u001b[39mcreate_connection(\n\u001b[0;32m    204\u001b[0m         (\u001b[38;5;28mself\u001b[39m\u001b[38;5;241m.\u001b[39m_dns_host, \u001b[38;5;28mself\u001b[39m\u001b[38;5;241m.\u001b[39mport),\n\u001b[0;32m    205\u001b[0m         \u001b[38;5;28mself\u001b[39m\u001b[38;5;241m.\u001b[39mtimeout,\n\u001b[0;32m    206\u001b[0m         source_address\u001b[38;5;241m=\u001b[39m\u001b[38;5;28mself\u001b[39m\u001b[38;5;241m.\u001b[39msource_address,\n\u001b[0;32m    207\u001b[0m         socket_options\u001b[38;5;241m=\u001b[39m\u001b[38;5;28mself\u001b[39m\u001b[38;5;241m.\u001b[39msocket_options,\n\u001b[0;32m    208\u001b[0m     )\n\u001b[0;32m    209\u001b[0m \u001b[38;5;28;01mexcept\u001b[39;00m socket\u001b[38;5;241m.\u001b[39mgaierror \u001b[38;5;28;01mas\u001b[39;00m e:\n",
      "File \u001b[1;32md:\\TOOL\\anaconda3\\Lib\\site-packages\\urllib3\\util\\connection.py:85\u001b[0m, in \u001b[0;36mcreate_connection\u001b[1;34m(address, timeout, source_address, socket_options)\u001b[0m\n\u001b[0;32m     84\u001b[0m \u001b[38;5;28;01mtry\u001b[39;00m:\n\u001b[1;32m---> 85\u001b[0m     \u001b[38;5;28;01mraise\u001b[39;00m err\n\u001b[0;32m     86\u001b[0m \u001b[38;5;28;01mfinally\u001b[39;00m:\n\u001b[0;32m     87\u001b[0m     \u001b[38;5;66;03m# Break explicitly a reference cycle\u001b[39;00m\n",
      "File \u001b[1;32md:\\TOOL\\anaconda3\\Lib\\site-packages\\urllib3\\util\\connection.py:73\u001b[0m, in \u001b[0;36mcreate_connection\u001b[1;34m(address, timeout, source_address, socket_options)\u001b[0m\n\u001b[0;32m     72\u001b[0m     sock\u001b[38;5;241m.\u001b[39mbind(source_address)\n\u001b[1;32m---> 73\u001b[0m sock\u001b[38;5;241m.\u001b[39mconnect(sa)\n\u001b[0;32m     74\u001b[0m \u001b[38;5;66;03m# Break explicitly a reference cycle\u001b[39;00m\n",
      "\u001b[1;31mConnectionRefusedError\u001b[0m: [WinError 10061] 由于目标计算机积极拒绝，无法连接。",
      "\nThe above exception was the direct cause of the following exception:\n",
      "\u001b[1;31mNewConnectionError\u001b[0m                        Traceback (most recent call last)",
      "File \u001b[1;32md:\\TOOL\\anaconda3\\Lib\\site-packages\\urllib3\\connectionpool.py:791\u001b[0m, in \u001b[0;36mHTTPConnectionPool.urlopen\u001b[1;34m(self, method, url, body, headers, retries, redirect, assert_same_host, timeout, pool_timeout, release_conn, chunked, body_pos, preload_content, decode_content, **response_kw)\u001b[0m\n\u001b[0;32m    790\u001b[0m \u001b[38;5;66;03m# Make the request on the HTTPConnection object\u001b[39;00m\n\u001b[1;32m--> 791\u001b[0m response \u001b[38;5;241m=\u001b[39m \u001b[38;5;28mself\u001b[39m\u001b[38;5;241m.\u001b[39m_make_request(\n\u001b[0;32m    792\u001b[0m     conn,\n\u001b[0;32m    793\u001b[0m     method,\n\u001b[0;32m    794\u001b[0m     url,\n\u001b[0;32m    795\u001b[0m     timeout\u001b[38;5;241m=\u001b[39mtimeout_obj,\n\u001b[0;32m    796\u001b[0m     body\u001b[38;5;241m=\u001b[39mbody,\n\u001b[0;32m    797\u001b[0m     headers\u001b[38;5;241m=\u001b[39mheaders,\n\u001b[0;32m    798\u001b[0m     chunked\u001b[38;5;241m=\u001b[39mchunked,\n\u001b[0;32m    799\u001b[0m     retries\u001b[38;5;241m=\u001b[39mretries,\n\u001b[0;32m    800\u001b[0m     response_conn\u001b[38;5;241m=\u001b[39mresponse_conn,\n\u001b[0;32m    801\u001b[0m     preload_content\u001b[38;5;241m=\u001b[39mpreload_content,\n\u001b[0;32m    802\u001b[0m     decode_content\u001b[38;5;241m=\u001b[39mdecode_content,\n\u001b[0;32m    803\u001b[0m     \u001b[38;5;241m*\u001b[39m\u001b[38;5;241m*\u001b[39mresponse_kw,\n\u001b[0;32m    804\u001b[0m )\n\u001b[0;32m    806\u001b[0m \u001b[38;5;66;03m# Everything went great!\u001b[39;00m\n",
      "File \u001b[1;32md:\\TOOL\\anaconda3\\Lib\\site-packages\\urllib3\\connectionpool.py:497\u001b[0m, in \u001b[0;36mHTTPConnectionPool._make_request\u001b[1;34m(self, conn, method, url, body, headers, retries, timeout, chunked, response_conn, preload_content, decode_content, enforce_content_length)\u001b[0m\n\u001b[0;32m    496\u001b[0m \u001b[38;5;28;01mtry\u001b[39;00m:\n\u001b[1;32m--> 497\u001b[0m     conn\u001b[38;5;241m.\u001b[39mrequest(\n\u001b[0;32m    498\u001b[0m         method,\n\u001b[0;32m    499\u001b[0m         url,\n\u001b[0;32m    500\u001b[0m         body\u001b[38;5;241m=\u001b[39mbody,\n\u001b[0;32m    501\u001b[0m         headers\u001b[38;5;241m=\u001b[39mheaders,\n\u001b[0;32m    502\u001b[0m         chunked\u001b[38;5;241m=\u001b[39mchunked,\n\u001b[0;32m    503\u001b[0m         preload_content\u001b[38;5;241m=\u001b[39mpreload_content,\n\u001b[0;32m    504\u001b[0m         decode_content\u001b[38;5;241m=\u001b[39mdecode_content,\n\u001b[0;32m    505\u001b[0m         enforce_content_length\u001b[38;5;241m=\u001b[39menforce_content_length,\n\u001b[0;32m    506\u001b[0m     )\n\u001b[0;32m    508\u001b[0m \u001b[38;5;66;03m# We are swallowing BrokenPipeError (errno.EPIPE) since the server is\u001b[39;00m\n\u001b[0;32m    509\u001b[0m \u001b[38;5;66;03m# legitimately able to close the connection after sending a valid response.\u001b[39;00m\n\u001b[0;32m    510\u001b[0m \u001b[38;5;66;03m# With this behaviour, the received response is still readable.\u001b[39;00m\n",
      "File \u001b[1;32md:\\TOOL\\anaconda3\\Lib\\site-packages\\urllib3\\connection.py:395\u001b[0m, in \u001b[0;36mHTTPConnection.request\u001b[1;34m(self, method, url, body, headers, chunked, preload_content, decode_content, enforce_content_length)\u001b[0m\n\u001b[0;32m    394\u001b[0m     \u001b[38;5;28mself\u001b[39m\u001b[38;5;241m.\u001b[39mputheader(header, value)\n\u001b[1;32m--> 395\u001b[0m \u001b[38;5;28mself\u001b[39m\u001b[38;5;241m.\u001b[39mendheaders()\n\u001b[0;32m    397\u001b[0m \u001b[38;5;66;03m# If we're given a body we start sending that in chunks.\u001b[39;00m\n",
      "File \u001b[1;32md:\\TOOL\\anaconda3\\Lib\\http\\client.py:1289\u001b[0m, in \u001b[0;36mHTTPConnection.endheaders\u001b[1;34m(self, message_body, encode_chunked)\u001b[0m\n\u001b[0;32m   1288\u001b[0m     \u001b[38;5;28;01mraise\u001b[39;00m CannotSendHeader()\n\u001b[1;32m-> 1289\u001b[0m \u001b[38;5;28mself\u001b[39m\u001b[38;5;241m.\u001b[39m_send_output(message_body, encode_chunked\u001b[38;5;241m=\u001b[39mencode_chunked)\n",
      "File \u001b[1;32md:\\TOOL\\anaconda3\\Lib\\http\\client.py:1048\u001b[0m, in \u001b[0;36mHTTPConnection._send_output\u001b[1;34m(self, message_body, encode_chunked)\u001b[0m\n\u001b[0;32m   1047\u001b[0m \u001b[38;5;28;01mdel\u001b[39;00m \u001b[38;5;28mself\u001b[39m\u001b[38;5;241m.\u001b[39m_buffer[:]\n\u001b[1;32m-> 1048\u001b[0m \u001b[38;5;28mself\u001b[39m\u001b[38;5;241m.\u001b[39msend(msg)\n\u001b[0;32m   1050\u001b[0m \u001b[38;5;28;01mif\u001b[39;00m message_body \u001b[38;5;129;01mis\u001b[39;00m \u001b[38;5;129;01mnot\u001b[39;00m \u001b[38;5;28;01mNone\u001b[39;00m:\n\u001b[0;32m   1051\u001b[0m \n\u001b[0;32m   1052\u001b[0m     \u001b[38;5;66;03m# create a consistent interface to message_body\u001b[39;00m\n",
      "File \u001b[1;32md:\\TOOL\\anaconda3\\Lib\\http\\client.py:986\u001b[0m, in \u001b[0;36mHTTPConnection.send\u001b[1;34m(self, data)\u001b[0m\n\u001b[0;32m    985\u001b[0m \u001b[38;5;28;01mif\u001b[39;00m \u001b[38;5;28mself\u001b[39m\u001b[38;5;241m.\u001b[39mauto_open:\n\u001b[1;32m--> 986\u001b[0m     \u001b[38;5;28mself\u001b[39m\u001b[38;5;241m.\u001b[39mconnect()\n\u001b[0;32m    987\u001b[0m \u001b[38;5;28;01melse\u001b[39;00m:\n",
      "File \u001b[1;32md:\\TOOL\\anaconda3\\Lib\\site-packages\\urllib3\\connection.py:243\u001b[0m, in \u001b[0;36mHTTPConnection.connect\u001b[1;34m(self)\u001b[0m\n\u001b[0;32m    242\u001b[0m \u001b[38;5;28;01mdef\u001b[39;00m \u001b[38;5;21mconnect\u001b[39m(\u001b[38;5;28mself\u001b[39m) \u001b[38;5;241m-\u001b[39m\u001b[38;5;241m>\u001b[39m \u001b[38;5;28;01mNone\u001b[39;00m:\n\u001b[1;32m--> 243\u001b[0m     \u001b[38;5;28mself\u001b[39m\u001b[38;5;241m.\u001b[39msock \u001b[38;5;241m=\u001b[39m \u001b[38;5;28mself\u001b[39m\u001b[38;5;241m.\u001b[39m_new_conn()\n\u001b[0;32m    244\u001b[0m     \u001b[38;5;28;01mif\u001b[39;00m \u001b[38;5;28mself\u001b[39m\u001b[38;5;241m.\u001b[39m_tunnel_host:\n\u001b[0;32m    245\u001b[0m         \u001b[38;5;66;03m# If we're tunneling it means we're connected to our proxy.\u001b[39;00m\n",
      "File \u001b[1;32md:\\TOOL\\anaconda3\\Lib\\site-packages\\urllib3\\connection.py:218\u001b[0m, in \u001b[0;36mHTTPConnection._new_conn\u001b[1;34m(self)\u001b[0m\n\u001b[0;32m    217\u001b[0m \u001b[38;5;28;01mexcept\u001b[39;00m \u001b[38;5;167;01mOSError\u001b[39;00m \u001b[38;5;28;01mas\u001b[39;00m e:\n\u001b[1;32m--> 218\u001b[0m     \u001b[38;5;28;01mraise\u001b[39;00m NewConnectionError(\n\u001b[0;32m    219\u001b[0m         \u001b[38;5;28mself\u001b[39m, \u001b[38;5;124mf\u001b[39m\u001b[38;5;124m\"\u001b[39m\u001b[38;5;124mFailed to establish a new connection: \u001b[39m\u001b[38;5;132;01m{\u001b[39;00me\u001b[38;5;132;01m}\u001b[39;00m\u001b[38;5;124m\"\u001b[39m\n\u001b[0;32m    220\u001b[0m     ) \u001b[38;5;28;01mfrom\u001b[39;00m \u001b[38;5;21;01me\u001b[39;00m\n\u001b[0;32m    222\u001b[0m \u001b[38;5;66;03m# Audit hooks are only available in Python 3.8+\u001b[39;00m\n",
      "\u001b[1;31mNewConnectionError\u001b[0m: <urllib3.connection.HTTPConnection object at 0x000002BBE8A0AE50>: Failed to establish a new connection: [WinError 10061] 由于目标计算机积极拒绝，无法连接。",
      "\nThe above exception was the direct cause of the following exception:\n",
      "\u001b[1;31mMaxRetryError\u001b[0m                             Traceback (most recent call last)",
      "File \u001b[1;32md:\\TOOL\\anaconda3\\Lib\\site-packages\\requests\\adapters.py:667\u001b[0m, in \u001b[0;36mHTTPAdapter.send\u001b[1;34m(self, request, stream, timeout, verify, cert, proxies)\u001b[0m\n\u001b[0;32m    666\u001b[0m \u001b[38;5;28;01mtry\u001b[39;00m:\n\u001b[1;32m--> 667\u001b[0m     resp \u001b[38;5;241m=\u001b[39m conn\u001b[38;5;241m.\u001b[39murlopen(\n\u001b[0;32m    668\u001b[0m         method\u001b[38;5;241m=\u001b[39mrequest\u001b[38;5;241m.\u001b[39mmethod,\n\u001b[0;32m    669\u001b[0m         url\u001b[38;5;241m=\u001b[39murl,\n\u001b[0;32m    670\u001b[0m         body\u001b[38;5;241m=\u001b[39mrequest\u001b[38;5;241m.\u001b[39mbody,\n\u001b[0;32m    671\u001b[0m         headers\u001b[38;5;241m=\u001b[39mrequest\u001b[38;5;241m.\u001b[39mheaders,\n\u001b[0;32m    672\u001b[0m         redirect\u001b[38;5;241m=\u001b[39m\u001b[38;5;28;01mFalse\u001b[39;00m,\n\u001b[0;32m    673\u001b[0m         assert_same_host\u001b[38;5;241m=\u001b[39m\u001b[38;5;28;01mFalse\u001b[39;00m,\n\u001b[0;32m    674\u001b[0m         preload_content\u001b[38;5;241m=\u001b[39m\u001b[38;5;28;01mFalse\u001b[39;00m,\n\u001b[0;32m    675\u001b[0m         decode_content\u001b[38;5;241m=\u001b[39m\u001b[38;5;28;01mFalse\u001b[39;00m,\n\u001b[0;32m    676\u001b[0m         retries\u001b[38;5;241m=\u001b[39m\u001b[38;5;28mself\u001b[39m\u001b[38;5;241m.\u001b[39mmax_retries,\n\u001b[0;32m    677\u001b[0m         timeout\u001b[38;5;241m=\u001b[39mtimeout,\n\u001b[0;32m    678\u001b[0m         chunked\u001b[38;5;241m=\u001b[39mchunked,\n\u001b[0;32m    679\u001b[0m     )\n\u001b[0;32m    681\u001b[0m \u001b[38;5;28;01mexcept\u001b[39;00m (ProtocolError, \u001b[38;5;167;01mOSError\u001b[39;00m) \u001b[38;5;28;01mas\u001b[39;00m err:\n",
      "File \u001b[1;32md:\\TOOL\\anaconda3\\Lib\\site-packages\\urllib3\\connectionpool.py:845\u001b[0m, in \u001b[0;36mHTTPConnectionPool.urlopen\u001b[1;34m(self, method, url, body, headers, retries, redirect, assert_same_host, timeout, pool_timeout, release_conn, chunked, body_pos, preload_content, decode_content, **response_kw)\u001b[0m\n\u001b[0;32m    843\u001b[0m     new_e \u001b[38;5;241m=\u001b[39m ProtocolError(\u001b[38;5;124m\"\u001b[39m\u001b[38;5;124mConnection aborted.\u001b[39m\u001b[38;5;124m\"\u001b[39m, new_e)\n\u001b[1;32m--> 845\u001b[0m retries \u001b[38;5;241m=\u001b[39m retries\u001b[38;5;241m.\u001b[39mincrement(\n\u001b[0;32m    846\u001b[0m     method, url, error\u001b[38;5;241m=\u001b[39mnew_e, _pool\u001b[38;5;241m=\u001b[39m\u001b[38;5;28mself\u001b[39m, _stacktrace\u001b[38;5;241m=\u001b[39msys\u001b[38;5;241m.\u001b[39mexc_info()[\u001b[38;5;241m2\u001b[39m]\n\u001b[0;32m    847\u001b[0m )\n\u001b[0;32m    848\u001b[0m retries\u001b[38;5;241m.\u001b[39msleep()\n",
      "File \u001b[1;32md:\\TOOL\\anaconda3\\Lib\\site-packages\\urllib3\\util\\retry.py:515\u001b[0m, in \u001b[0;36mRetry.increment\u001b[1;34m(self, method, url, response, error, _pool, _stacktrace)\u001b[0m\n\u001b[0;32m    514\u001b[0m     reason \u001b[38;5;241m=\u001b[39m error \u001b[38;5;129;01mor\u001b[39;00m ResponseError(cause)\n\u001b[1;32m--> 515\u001b[0m     \u001b[38;5;28;01mraise\u001b[39;00m MaxRetryError(_pool, url, reason) \u001b[38;5;28;01mfrom\u001b[39;00m \u001b[38;5;21;01mreason\u001b[39;00m  \u001b[38;5;66;03m# type: ignore[arg-type]\u001b[39;00m\n\u001b[0;32m    517\u001b[0m log\u001b[38;5;241m.\u001b[39mdebug(\u001b[38;5;124m\"\u001b[39m\u001b[38;5;124mIncremented Retry for (url=\u001b[39m\u001b[38;5;124m'\u001b[39m\u001b[38;5;132;01m%s\u001b[39;00m\u001b[38;5;124m'\u001b[39m\u001b[38;5;124m): \u001b[39m\u001b[38;5;132;01m%r\u001b[39;00m\u001b[38;5;124m\"\u001b[39m, url, new_retry)\n",
      "\u001b[1;31mMaxRetryError\u001b[0m: HTTPConnectionPool(host='127.0.0.1', port=8000): Max retries exceeded with url: /rag_asg/invoke (Caused by NewConnectionError('<urllib3.connection.HTTPConnection object at 0x000002BBE8A0AE50>: Failed to establish a new connection: [WinError 10061] 由于目标计算机积极拒绝，无法连接。'))",
      "\nDuring handling of the above exception, another exception occurred:\n",
      "\u001b[1;31mConnectionError\u001b[0m                           Traceback (most recent call last)",
      "Cell \u001b[1;32mIn[27], line 3\u001b[0m\n\u001b[0;32m      1\u001b[0m data \u001b[38;5;241m=\u001b[39m \u001b[38;5;124m\"\u001b[39m\u001b[38;5;124m抗癌药品有哪些\u001b[39m\u001b[38;5;124m\"\u001b[39m\n\u001b[1;32m----> 3\u001b[0m response \u001b[38;5;241m=\u001b[39m requests\u001b[38;5;241m.\u001b[39mpost(url\u001b[38;5;241m=\u001b[39m\u001b[38;5;124m\"\u001b[39m\u001b[38;5;124mhttp://127.0.0.1:8000/rag_asg/invoke\u001b[39m\u001b[38;5;124m\"\u001b[39m, json\u001b[38;5;241m=\u001b[39m{\u001b[38;5;124m\"\u001b[39m\u001b[38;5;124minput\u001b[39m\u001b[38;5;124m\"\u001b[39m: data})\n\u001b[0;32m      5\u001b[0m \u001b[38;5;28mprint\u001b[39m(response\u001b[38;5;241m.\u001b[39mjson())\n",
      "File \u001b[1;32md:\\TOOL\\anaconda3\\Lib\\site-packages\\requests\\api.py:115\u001b[0m, in \u001b[0;36mpost\u001b[1;34m(url, data, json, **kwargs)\u001b[0m\n\u001b[0;32m    103\u001b[0m \u001b[38;5;28;01mdef\u001b[39;00m \u001b[38;5;21mpost\u001b[39m(url, data\u001b[38;5;241m=\u001b[39m\u001b[38;5;28;01mNone\u001b[39;00m, json\u001b[38;5;241m=\u001b[39m\u001b[38;5;28;01mNone\u001b[39;00m, \u001b[38;5;241m*\u001b[39m\u001b[38;5;241m*\u001b[39mkwargs):\n\u001b[0;32m    104\u001b[0m \u001b[38;5;250m    \u001b[39m\u001b[38;5;124mr\u001b[39m\u001b[38;5;124;03m\"\"\"Sends a POST request.\u001b[39;00m\n\u001b[0;32m    105\u001b[0m \n\u001b[0;32m    106\u001b[0m \u001b[38;5;124;03m    :param url: URL for the new :class:`Request` object.\u001b[39;00m\n\u001b[1;32m   (...)\u001b[0m\n\u001b[0;32m    112\u001b[0m \u001b[38;5;124;03m    :rtype: requests.Response\u001b[39;00m\n\u001b[0;32m    113\u001b[0m \u001b[38;5;124;03m    \"\"\"\u001b[39;00m\n\u001b[1;32m--> 115\u001b[0m     \u001b[38;5;28;01mreturn\u001b[39;00m request(\u001b[38;5;124m\"\u001b[39m\u001b[38;5;124mpost\u001b[39m\u001b[38;5;124m\"\u001b[39m, url, data\u001b[38;5;241m=\u001b[39mdata, json\u001b[38;5;241m=\u001b[39mjson, \u001b[38;5;241m*\u001b[39m\u001b[38;5;241m*\u001b[39mkwargs)\n",
      "File \u001b[1;32md:\\TOOL\\anaconda3\\Lib\\site-packages\\requests\\api.py:59\u001b[0m, in \u001b[0;36mrequest\u001b[1;34m(method, url, **kwargs)\u001b[0m\n\u001b[0;32m     55\u001b[0m \u001b[38;5;66;03m# By using the 'with' statement we are sure the session is closed, thus we\u001b[39;00m\n\u001b[0;32m     56\u001b[0m \u001b[38;5;66;03m# avoid leaving sockets open which can trigger a ResourceWarning in some\u001b[39;00m\n\u001b[0;32m     57\u001b[0m \u001b[38;5;66;03m# cases, and look like a memory leak in others.\u001b[39;00m\n\u001b[0;32m     58\u001b[0m \u001b[38;5;28;01mwith\u001b[39;00m sessions\u001b[38;5;241m.\u001b[39mSession() \u001b[38;5;28;01mas\u001b[39;00m session:\n\u001b[1;32m---> 59\u001b[0m     \u001b[38;5;28;01mreturn\u001b[39;00m session\u001b[38;5;241m.\u001b[39mrequest(method\u001b[38;5;241m=\u001b[39mmethod, url\u001b[38;5;241m=\u001b[39murl, \u001b[38;5;241m*\u001b[39m\u001b[38;5;241m*\u001b[39mkwargs)\n",
      "File \u001b[1;32md:\\TOOL\\anaconda3\\Lib\\site-packages\\requests\\sessions.py:589\u001b[0m, in \u001b[0;36mSession.request\u001b[1;34m(self, method, url, params, data, headers, cookies, files, auth, timeout, allow_redirects, proxies, hooks, stream, verify, cert, json)\u001b[0m\n\u001b[0;32m    584\u001b[0m send_kwargs \u001b[38;5;241m=\u001b[39m {\n\u001b[0;32m    585\u001b[0m     \u001b[38;5;124m\"\u001b[39m\u001b[38;5;124mtimeout\u001b[39m\u001b[38;5;124m\"\u001b[39m: timeout,\n\u001b[0;32m    586\u001b[0m     \u001b[38;5;124m\"\u001b[39m\u001b[38;5;124mallow_redirects\u001b[39m\u001b[38;5;124m\"\u001b[39m: allow_redirects,\n\u001b[0;32m    587\u001b[0m }\n\u001b[0;32m    588\u001b[0m send_kwargs\u001b[38;5;241m.\u001b[39mupdate(settings)\n\u001b[1;32m--> 589\u001b[0m resp \u001b[38;5;241m=\u001b[39m \u001b[38;5;28mself\u001b[39m\u001b[38;5;241m.\u001b[39msend(prep, \u001b[38;5;241m*\u001b[39m\u001b[38;5;241m*\u001b[39msend_kwargs)\n\u001b[0;32m    591\u001b[0m \u001b[38;5;28;01mreturn\u001b[39;00m resp\n",
      "File \u001b[1;32md:\\TOOL\\anaconda3\\Lib\\site-packages\\requests\\sessions.py:703\u001b[0m, in \u001b[0;36mSession.send\u001b[1;34m(self, request, **kwargs)\u001b[0m\n\u001b[0;32m    700\u001b[0m start \u001b[38;5;241m=\u001b[39m preferred_clock()\n\u001b[0;32m    702\u001b[0m \u001b[38;5;66;03m# Send the request\u001b[39;00m\n\u001b[1;32m--> 703\u001b[0m r \u001b[38;5;241m=\u001b[39m adapter\u001b[38;5;241m.\u001b[39msend(request, \u001b[38;5;241m*\u001b[39m\u001b[38;5;241m*\u001b[39mkwargs)\n\u001b[0;32m    705\u001b[0m \u001b[38;5;66;03m# Total elapsed time of the request (approximately)\u001b[39;00m\n\u001b[0;32m    706\u001b[0m elapsed \u001b[38;5;241m=\u001b[39m preferred_clock() \u001b[38;5;241m-\u001b[39m start\n",
      "File \u001b[1;32md:\\TOOL\\anaconda3\\Lib\\site-packages\\requests\\adapters.py:700\u001b[0m, in \u001b[0;36mHTTPAdapter.send\u001b[1;34m(self, request, stream, timeout, verify, cert, proxies)\u001b[0m\n\u001b[0;32m    696\u001b[0m     \u001b[38;5;28;01mif\u001b[39;00m \u001b[38;5;28misinstance\u001b[39m(e\u001b[38;5;241m.\u001b[39mreason, _SSLError):\n\u001b[0;32m    697\u001b[0m         \u001b[38;5;66;03m# This branch is for urllib3 v1.22 and later.\u001b[39;00m\n\u001b[0;32m    698\u001b[0m         \u001b[38;5;28;01mraise\u001b[39;00m SSLError(e, request\u001b[38;5;241m=\u001b[39mrequest)\n\u001b[1;32m--> 700\u001b[0m     \u001b[38;5;28;01mraise\u001b[39;00m \u001b[38;5;167;01mConnectionError\u001b[39;00m(e, request\u001b[38;5;241m=\u001b[39mrequest)\n\u001b[0;32m    702\u001b[0m \u001b[38;5;28;01mexcept\u001b[39;00m ClosedPoolError \u001b[38;5;28;01mas\u001b[39;00m e:\n\u001b[0;32m    703\u001b[0m     \u001b[38;5;28;01mraise\u001b[39;00m \u001b[38;5;167;01mConnectionError\u001b[39;00m(e, request\u001b[38;5;241m=\u001b[39mrequest)\n",
      "\u001b[1;31mConnectionError\u001b[0m: HTTPConnectionPool(host='127.0.0.1', port=8000): Max retries exceeded with url: /rag_asg/invoke (Caused by NewConnectionError('<urllib3.connection.HTTPConnection object at 0x000002BBE8A0AE50>: Failed to establish a new connection: [WinError 10061] 由于目标计算机积极拒绝，无法连接。'))"
     ]
    }
   ],
   "source": [
    "data = \"抗癌药品有哪些\"\n",
    "\n",
    "response = requests.post(url=\"http://127.0.0.1:8000/rag_asg/invoke\", json={\"input\": data})\n",
    "\n",
    "print(response.json())"
   ]
  },
  {
   "cell_type": "markdown",
   "metadata": {},
   "source": [
    "### 自定义解析器"
   ]
  },
  {
   "cell_type": "code",
   "execution_count": 28,
   "metadata": {},
   "outputs": [],
   "source": [
    "# 参考：https://python.langchain.com/v0.2/api_reference/core/runnables/langchain_core.runnables.base.RunnableGenerator.html\n",
    "from typing import Any, AsyncIterator, Iterator\n",
    "\n",
    "from langchain_core.runnables import RunnableGenerator\n",
    "\n",
    "\n",
    "def gen(input: Iterator[Any]) -> Iterator[str]:\n",
    "    for token in [\"Have\", \" a\", \" nice\", \" day\"]:\n",
    "        yield token\n"
   ]
  },
  {
   "cell_type": "code",
   "execution_count": 64,
   "metadata": {},
   "outputs": [],
   "source": [
    "def gen(input: Iterator[Any]) -> Iterator[str]:\n",
    "    for token in input:\n",
    "        yield token"
   ]
  },
  {
   "cell_type": "code",
   "execution_count": 65,
   "metadata": {},
   "outputs": [],
   "source": [
    "runnable = RunnableGenerator(gen)"
   ]
  },
  {
   "cell_type": "code",
   "execution_count": 30,
   "metadata": {},
   "outputs": [
    {
     "data": {
      "text/plain": [
       "'Have a nice day'"
      ]
     },
     "execution_count": 30,
     "metadata": {},
     "output_type": "execute_result"
    }
   ],
   "source": [
    "runnable.invoke(None)  # \"Have a nice day\""
   ]
  },
  {
   "cell_type": "code",
   "execution_count": 31,
   "metadata": {},
   "outputs": [
    {
     "data": {
      "text/plain": [
       "['Have', ' a', ' nice', ' day']"
      ]
     },
     "execution_count": 31,
     "metadata": {},
     "output_type": "execute_result"
    }
   ],
   "source": [
    "list(runnable.stream(None))  # [\"Have\", \" a\", \" nice\", \" day\"]"
   ]
  },
  {
   "cell_type": "code",
   "execution_count": 32,
   "metadata": {},
   "outputs": [
    {
     "data": {
      "text/plain": [
       "['Have a nice day', 'Have a nice day']"
      ]
     },
     "execution_count": 32,
     "metadata": {},
     "output_type": "execute_result"
    }
   ],
   "source": [
    "runnable.batch([None, None])  # [\"Have a nice day\", \"Have a nice day\"]"
   ]
  },
  {
   "cell_type": "markdown",
   "metadata": {},
   "source": [
    "### 自定义解析器2"
   ]
  },
  {
   "cell_type": "code",
   "execution_count": 33,
   "metadata": {},
   "outputs": [],
   "source": [
    "from langchain_core.messages import AIMessage, AIMessageChunk\n",
    "\n",
    "\n",
    "# 自定义解析器2\n",
    "def parse(ai_message: AIMessage) -> str:\n",
    "    \"\"\"Parse the AI message.\"\"\"\n",
    "    return ai_message.content.swapcase()"
   ]
  },
  {
   "cell_type": "code",
   "execution_count": 60,
   "metadata": {},
   "outputs": [],
   "source": [
    "from typing import Iterable\n",
    "from langchain_core.messages import AIMessage, AIMessageChunk\n",
    "\n",
    "def streaming_parse(chunks: Iterable[AIMessageChunk]) -> Iterable[str]:\n",
    "    for chunk in chunks:\n",
    "        yield chunk.content.swapcase()\n",
    "\n",
    "\n",
    "streaming_parse = RunnableGenerator(streaming_parse)"
   ]
  },
  {
   "cell_type": "code",
   "execution_count": 66,
   "metadata": {},
   "outputs": [],
   "source": [
    "rag_chain = (\n",
    "    {\"context\": myRetriever,\n",
    "     \"question\": RunnablePassthrough()}\n",
    "    | prompt\n",
    "    | llm\n",
    "    | runnable\n",
    ")"
   ]
  },
  {
   "cell_type": "code",
   "execution_count": 67,
   "metadata": {},
   "outputs": [
    {
     "data": {
      "text/plain": [
       "<generator object RunnableSequence.stream at 0x000002BBEBC20220>"
      ]
     },
     "execution_count": 67,
     "metadata": {},
     "output_type": "execute_result"
    }
   ],
   "source": [
    "rag_chain.stream(input=question)"
   ]
  },
  {
   "cell_type": "code",
   "execution_count": 68,
   "metadata": {},
   "outputs": [
    {
     "name": "stdout",
     "output_type": "stream",
     "text": [
      "content='抗' id='run-f0cd5417-2124-495d-aa53-acacf5fde03e'|content='癌' id='run-f0cd5417-2124-495d-aa53-acacf5fde03e'|content='药物' id='run-f0cd5417-2124-495d-aa53-acacf5fde03e'|content='包' id='run-f0cd5417-2124-495d-aa53-acacf5fde03e'|content='括穿' id='run-f0cd5417-2124-495d-aa53-acacf5fde03e'|content='心' id='run-f0cd5417-2124-495d-aa53-acacf5fde03e'|content='莲' id='run-f0cd5417-2124-495d-aa53-acacf5fde03e'|content='胶囊、安康欣胶囊等。' id='run-f0cd5417-2124-495d-aa53-acacf5fde03e'|content='' id='run-f0cd5417-2124-495d-aa53-acacf5fde03e'|"
     ]
    }
   ],
   "source": [
    "for chunk in rag_chain.stream(input=question):\n",
    "    print(chunk, end=\"|\", flush=True)"
   ]
  },
  {
   "cell_type": "code",
   "execution_count": null,
   "metadata": {},
   "outputs": [],
   "source": []
  }
 ],
 "metadata": {
  "kernelspec": {
   "display_name": "base",
   "language": "python",
   "name": "python3"
  },
  "language_info": {
   "codemirror_mode": {
    "name": "ipython",
    "version": 3
   },
   "file_extension": ".py",
   "mimetype": "text/x-python",
   "name": "python",
   "nbconvert_exporter": "python",
   "pygments_lexer": "ipython3",
   "version": "3.11.7"
  }
 },
 "nbformat": 4,
 "nbformat_minor": 2
}
