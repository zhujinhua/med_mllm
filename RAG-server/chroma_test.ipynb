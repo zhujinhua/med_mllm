{
 "cells": [
  {
   "cell_type": "markdown",
   "metadata": {},
   "source": [
    "# 多个问题结果汇总"
   ]
  },
  {
   "cell_type": "code",
   "execution_count": 29,
   "metadata": {},
   "outputs": [],
   "source": [
    "import chromadb\n",
    "chroma_client = chromadb.HttpClient(host='direct.virtaicloud.com', port=20994)"
   ]
  },
  {
   "cell_type": "code",
   "execution_count": 30,
   "metadata": {},
   "outputs": [],
   "source": [
    "from chromadb import Documents, EmbeddingFunction, Embeddings\n",
    "# 自定义embedding函数\n",
    "class MyEmbeddingFunction(EmbeddingFunction):\n",
    "    def __call__(self, input: Documents) -> Embeddings:\n",
    "        # embed the documents somehow\n",
    "        print(\"------执行了--------\")\n",
    "        embeddings = embed.embed_documents(input)\n",
    "        return embeddings"
   ]
  },
  {
   "cell_type": "code",
   "execution_count": 31,
   "metadata": {},
   "outputs": [],
   "source": [
    "# 获取集合\n",
    "collection = chroma_client.get_or_create_collection(name=\"testDB4\",embedding_function=MyEmbeddingFunction())"
   ]
  },
  {
   "cell_type": "code",
   "execution_count": 32,
   "metadata": {},
   "outputs": [],
   "source": [
    "from langchain_community.embeddings import XinferenceEmbeddings\n",
    "\n",
    "# 获取embeddings模型 - bge\n",
    "embed = XinferenceEmbeddings(\n",
    "    server_url=\"http://direct.virtaicloud.com:28511\", model_uid=\"custom-bge-m3\"\n",
    ")"
   ]
  },
  {
   "cell_type": "code",
   "execution_count": 33,
   "metadata": {},
   "outputs": [],
   "source": [
    "def customer_retriever(q:str):\n",
    "    \"\"\"\n",
    "    自定义检索器\n",
    "    @Param q: 查询的问题\n",
    "    \"\"\"\n",
    "    query_embed = embed.embed_query(q)\n",
    "    results = collection.query(\n",
    "        query_embeddings=query_embed, # Chroma will embed this for you\n",
    "        n_results=1 # how many results to return\n",
    "    )\n",
    "    print(results)\n",
    "    print(results[\"distances\"][0][0])\n",
    "    return results['documents'][0]"
   ]
  },
  {
   "cell_type": "code",
   "execution_count": 34,
   "metadata": {},
   "outputs": [
    {
     "name": "stdout",
     "output_type": "stream",
     "text": [
      "------执行了--------\n"
     ]
    }
   ],
   "source": [
    "results = collection.query(query_texts=[\"fafa\"], n_results=5)\n",
    "answers = []\n",
    "for result in results['documents'][0]:\n",
    "    answers.append(result)"
   ]
  },
  {
   "cell_type": "code",
   "execution_count": 35,
   "metadata": {},
   "outputs": [
    {
     "data": {
      "text/plain": [
       "[\"'本品主要成份为阿法骨化醇，其化学名称为9，10-开环胆甾-5，7，10(19)-三烯-1α，3β-二醇。', '适应症': '1.骨质疏松症。|2.维生素D缺乏性佝偻病和软骨病，跖骨头骨软骨病。|3.肾性骨病。|4.甲状旁腺功能减退症。', '规格': '双铝泡眼包装，0.25μg/粒，10粒/板，2板/盒。', '不良反应': '1.小剂量单独使用(<1.0μg/d)一般无不良反应，长期大剂量用药或与钙剂合用可能会引起高钙血症和高钙尿症。|2.偶见食欲不振?恶心?呕吐及皮肤瘙痒感等。', '用法用量': '口服:|1.成人，骨质疏松症和慢性肾功能不全:每次0.5μg(2粒)，每日1次，或遵医嘱。|2.儿童，应遵医嘱。', '禁忌': '对维生素D及其类似物过敏?具有高钙血症?有维生素D中毒征象者禁用。', '注意事项':\",\n",
       " \"{'标题': '阿法骨化醇软胶囊', '标题链接': 'https://www.yaozs.com/sms3270/', '编号': '国药准字H20000065', 'r3': '1.骨质疏松症。\\\\n2.维生素D缺乏性佝偻病和软骨病，...', '通用名称': '阿法骨化醇软胶囊', '商品名称': '阿法骨化醇软胶囊', '汉语拼音': 'AFaGuHuaChunRuanJiaoNang', '批准文号': '国药准字H20000065', '药品分类': '化学药品', '生产企业': '南通华山药业有限公司(国产)', '药品性质': '处方药', '相关疾病': '骨质疏松症,维生素D缺乏性佝偻病,软骨病,跖骨头骨软骨病,肾性骨病,甲状旁腺功能减退症,', '性状': '本品为红色透明软胶囊，内含淡黄色至深黄色油状液体。', '主要成份': '本品主要成份为阿法骨化醇，其化学名称为9，10-开环胆甾-5，7，10(19)-三烯-1α，3β-二醇。', '适应症': '1.骨质疏松症。 2.维生素D缺乏性佝偻病和软骨病，跖骨头骨软骨病。 3.肾性骨病。 4.甲状旁腺功能减退症。', '规格':\",\n",
       " \"{'标题': '阿法骨化醇胶丸', '标题链接': 'https://www.yaozs.com/sms671/', '编号': '国药准字J20080075', 'r3': '1.佝偻病和软骨病。\\\\n2.肾性骨病。\\\\n3.骨质疏松症。\\\\n...', '通用名称': '阿法骨化醇胶丸', '商品名称': nan, '汉语拼音': nan, '批准文号': '国药准字J20080075', '药品分类': '化学药品', '生产企业': 'Teva Pharmaceutical Industries Ltd.(进口)', '药品性质': '处方药', '相关疾病': ',', '性状': nan, '主要成份': nan, '适应症': '1.佝偻病和软骨病。 2.肾性骨病。 3.骨质疏松症。 4.甲状旁腺功能减退症。', '规格': '0.25μg*20', '不良反应': '1.小剂量单独使用(＜1.0μg/d) -般无不良反应，长期大剂量用药或与钙剂合用可能会引起高钙血症和高钙尿症。\\\\n2.偶见食欲不振、恶心、呕吐及皮肤瘙痒感等。', '用法用量': '口服：\",\n",
       " \"{'标题': '依托芬那酯凝胶', '标题链接': 'https://www.yaozs.com/sms439/', '编号': 'HC20120006', 'r3': '本品局部外用可治疗：1. 骨骼肌肉系统的关节、软组...', '通用名称': '依托芬那酯凝胶', '商品名称': '依托芬那酯凝胶', '汉语拼音': 'yituofennazhiningjiao', '批准文号': 'HC20120006', '药品分类': '化学药品', '生产企业': '澳美制药厂(中国香港)', '药品性质': '处方药', '相关疾病': '腱鞘炎,关节炎,坐骨神经痛,肌纤维组织炎,滑囊炎,骨关节炎,韧带损伤,强直性脊柱炎,肩关节周围炎,痛风,', '性状': nan, '主要成份': '本品主要组分为依托芬那酯。', '适应症': '本品局部外用可治疗：1. 骨骼肌肉系统的关节、软组织疾病,如：肌肉风湿病、肌肉疼痛、肩周炎、各种慢性关节炎、痛风急性发作、腰痛、坐骨神经痛、腱鞘炎、滑囊炎、纤维组织炎以及脊柱和关节的各种软组织劳损（如骨关节炎、强直性脊柱炎）等。2. 外伤（如运动性损伤）：挫伤、扭伤、拉伤等。',\",\n",
       " \"{'标题': '阿法骨化醇软胶囊', '标题链接': 'https://www.yaozs.com/sms4243/', '编号': '国药准字J20130162', 'r3': '1.骨质疏松症。|2.维生素D缺乏性佝偻病和软骨病，...', '通用名称': '阿法骨化醇软胶囊', '商品名称': '阿法迪三', '汉语拼音': 'afadisan', '批准文号': '国药准字J20130162', '药品分类': '化学药品', '生产企业': 'TevaPharmaceuticalIndustriesLtd.(以色列)', '药品性质': '处方药', '相关疾病': '骨质疏松症,维生素D缺乏性佝偻病,软骨病,跖骨头骨软骨病,肾性骨病,甲状旁腺功能减退症,', '性状': '本品为红棕色卵圆形不透明软胶囊，内容物为黄色油状液体。', '主要成份': '本品主要成份为阿法骨化醇，其化学名称为9，10-开环胆甾-5，7，10(19)-三烯-1α，3β-二醇。', '适应症': '1.骨质疏松症。|2.维生素D缺乏性佝偻病和软骨病，跖骨头骨软骨病。|3.肾性骨病。|4.甲状旁腺功能减退症。', '规格':\"]"
      ]
     },
     "execution_count": 35,
     "metadata": {},
     "output_type": "execute_result"
    }
   ],
   "source": [
    "answers"
   ]
  },
  {
   "cell_type": "code",
   "execution_count": 36,
   "metadata": {},
   "outputs": [
    {
     "name": "stdout",
     "output_type": "stream",
     "text": [
      "{'output': {'content': '{ \"src_question\": \"感冒好了以后应该怎么调养\", \"new_question1\": \"感冒好了以后应该如何正确饮食?\", \"new_question2\": \"感冒好了以后应该如何进行适当的运动?\", \"new_question3\": \"感冒好了以后应该如何保持良好的生活习惯?\" }', 'additional_kwargs': {'refusal': None}, 'response_metadata': {'token_usage': {'completion_tokens': 56, 'prompt_tokens': 187, 'total_tokens': 243}, 'model_name': 'qwen-vl-chat', 'system_fingerprint': None, 'finish_reason': None, 'logprobs': None}, 'type': 'ai', 'name': None, 'id': 'run-04bb1041-bff7-4923-b343-77a73b213b87-0', 'example': False, 'tool_calls': [], 'invalid_tool_calls': [], 'usage_metadata': {'input_tokens': 187, 'output_tokens': 56, 'total_tokens': 243}}, 'metadata': {'run_id': 'a35927f6-b392-4417-bf4c-47f739a1192f', 'feedback_tokens': []}}\n"
     ]
    }
   ],
   "source": [
    "import requests\n",
    "\n",
    "# 注意请求路径：常规路径后面添加一个 invoke\n",
    "# url = \" http://localhost:8001/query_question/invoke\"\n",
    "url =  \"http://direct.virtaicloud.com:29324/query_question/invoke\"\n",
    "url =  \"http://direct.virtaicloud.com:48289/query_question/invoke\"\n",
    "\n",
    "\n",
    "data = {\"src_question\": \"感冒好了以后应该怎么调养\"}\n",
    "\n",
    "# 注意传参格式：外面包一层 input\n",
    "response = requests.post(url=url, json={\"input\": data})\n",
    "\n",
    "print(response.json())"
   ]
  },
  {
   "cell_type": "code",
   "execution_count": 57,
   "metadata": {},
   "outputs": [],
   "source": [
    "def get_multi_query(query:str):\n",
    "    import requests\n",
    "\n",
    "    # 注意请求路径：常规路径后面添加一个 invoke\n",
    "    # url = \" http://localhost:8001/query_question/invoke\"\n",
    "    url =  \"http://direct.virtaicloud.com:48289/query_question/invoke\"\n",
    "\n",
    "    data = {\"src_question\":query}\n",
    "\n",
    "    # 注意传参格式：外面包一层 input\n",
    "    response = requests.post(url=url, json={\"input\": data})\n",
    "\n",
    "    print(response.json())\n",
    "    return response.json()[\"output\"][\"content\"]"
   ]
  },
  {
   "cell_type": "code",
   "execution_count": 58,
   "metadata": {},
   "outputs": [
    {
     "name": "stdout",
     "output_type": "stream",
     "text": [
      "{ \"src_question\": \"感冒好了以后应该怎么调养\", \"new_question1\": \"感冒好了以后应该如何正确饮食?\", \"new_question2\": \"感冒好了以后应该如何进行适当的运动?\", \"new_question3\": \"感冒好了以后应该如何保持良好的生活习惯?\" }\n"
     ]
    }
   ],
   "source": [
    "\n",
    "print(response.json()[\"output\"][\"content\"])"
   ]
  },
  {
   "cell_type": "code",
   "execution_count": 59,
   "metadata": {},
   "outputs": [
    {
     "name": "stdout",
     "output_type": "stream",
     "text": [
      "{'output': {'content': '{\\n    \"src_question\": \"治疗感冒的药品有哪些？\",\\n    \"new_question1\": \"治疗感冒的药品有哪些种类？\",\\n    \"new_question2\": \"治疗感冒的药品有哪些功效？\",\\n    \"new_question3\": \"如何正确选择治疗感冒的药品？\"\\n}', 'additional_kwargs': {'refusal': None}, 'response_metadata': {'token_usage': {'completion_tokens': 62, 'prompt_tokens': 187, 'total_tokens': 249}, 'model_name': 'qwen-vl-chat', 'system_fingerprint': None, 'finish_reason': None, 'logprobs': None}, 'type': 'ai', 'name': None, 'id': 'run-3c8a5d75-56a1-4796-9bdf-74f4a2a0bcbe-0', 'example': False, 'tool_calls': [], 'invalid_tool_calls': [], 'usage_metadata': {'input_tokens': 187, 'output_tokens': 62, 'total_tokens': 249}}, 'metadata': {'run_id': '2e2b6043-5e1a-48f9-87d3-5fc9546bb45a', 'feedback_tokens': []}}\n"
     ]
    }
   ],
   "source": [
    "res_multi_query = get_multi_query(query=\"治疗感冒的药品有哪些？\")"
   ]
  },
  {
   "cell_type": "code",
   "execution_count": 60,
   "metadata": {},
   "outputs": [
    {
     "data": {
      "text/plain": [
       "'{\\n    \"src_question\": \"治疗感冒的药品有哪些？\",\\n    \"new_question1\": \"治疗感冒的药品有哪些种类？\",\\n    \"new_question2\": \"治疗感冒的药品有哪些功效？\",\\n    \"new_question3\": \"如何正确选择治疗感冒的药品？\"\\n}'"
      ]
     },
     "execution_count": 60,
     "metadata": {},
     "output_type": "execute_result"
    }
   ],
   "source": [
    "res_multi_query"
   ]
  },
  {
   "cell_type": "code",
   "execution_count": 61,
   "metadata": {},
   "outputs": [
    {
     "data": {
      "text/plain": [
       "{'src_question': '治疗感冒的药品有哪些？',\n",
       " 'new_question1': '治疗感冒的药品有哪些种类？',\n",
       " 'new_question2': '治疗感冒的药品有哪些功效？',\n",
       " 'new_question3': '如何正确选择治疗感冒的药品？'}"
      ]
     },
     "execution_count": 61,
     "metadata": {},
     "output_type": "execute_result"
    }
   ],
   "source": [
    "import json\n",
    "json_decoder = json.JSONDecoder()\n",
    "res_multi_query = json_decoder.decode(res_multi_query)\n",
    "res_multi_query"
   ]
  },
  {
   "cell_type": "code",
   "execution_count": 62,
   "metadata": {},
   "outputs": [
    {
     "name": "stdout",
     "output_type": "stream",
     "text": [
      "{'ids': [['f81a853e91b847779249fa9f3eaf9692']], 'distances': [[0.6375560760498047]], 'embeddings': None, 'metadatas': [[{'source': 'https://www.yaozs.com/sms3931/', 'title': '氨咖黄敏胶囊'}]], 'documents': [[\"'适应症': '适用于缓解普通感冒及流行性感冒引起的发热、头痛、四肢酸痛、打喷嚏、流鼻涕、鼻塞、咽痛等症状。', '规格': '12粒', '不良反应': '有时有轻度头晕、乏力、恶心、上腹不适、口干、食欲缺乏和皮疹等，可自行恢复。', '用法用量': '口服。成人，一次1～2粒，一日3次。', '禁忌': '严重肝肾功能不全者禁用。', '注意事项': '1. 用药3-7天，症状未缓解，请咨询医师或药师。\\\\n2. 服用本品期间不得饮酒或含有酒精的饮料。\\\\n3. 不能同时服用与本品成份相似的其他抗感冒药。\\\\n4. 前列腺肥大、青光眼等患者以及老年人应在医师指导下使用。\\\\n5. 肝、肾功能不全者慎用。\\\\n6. 孕妇及哺乳期妇女慎用。\\\\n7. 服药期间不得驾驶机、车、船、从事高空作业、机械作业及操作精密仪器。\\\\n8. 如服用过量或出现严重不良反应，应立即就医。\\\\n9. 对本品过敏者禁用，过敏体质者慎用。\\\\n10. 本品性状发生改变时禁止使用。\\\\n11. 请将本品放在儿童不能接触的地方。\\\\n12. 儿童必须在成人监护下使用。\\\\n13. 如正在使用其他药品，使用本品前请咨询医师或药师。',\"]], 'uris': None, 'data': None, 'included': ['metadatas', 'documents', 'distances']}\n",
      "0.6375560760498047\n"
     ]
    },
    {
     "data": {
      "text/plain": [
       "[\"'适应症': '适用于缓解普通感冒及流行性感冒引起的发热、头痛、四肢酸痛、打喷嚏、流鼻涕、鼻塞、咽痛等症状。', '规格': '12粒', '不良反应': '有时有轻度头晕、乏力、恶心、上腹不适、口干、食欲缺乏和皮疹等，可自行恢复。', '用法用量': '口服。成人，一次1～2粒，一日3次。', '禁忌': '严重肝肾功能不全者禁用。', '注意事项': '1. 用药3-7天，症状未缓解，请咨询医师或药师。\\\\n2. 服用本品期间不得饮酒或含有酒精的饮料。\\\\n3. 不能同时服用与本品成份相似的其他抗感冒药。\\\\n4. 前列腺肥大、青光眼等患者以及老年人应在医师指导下使用。\\\\n5. 肝、肾功能不全者慎用。\\\\n6. 孕妇及哺乳期妇女慎用。\\\\n7. 服药期间不得驾驶机、车、船、从事高空作业、机械作业及操作精密仪器。\\\\n8. 如服用过量或出现严重不良反应，应立即就医。\\\\n9. 对本品过敏者禁用，过敏体质者慎用。\\\\n10. 本品性状发生改变时禁止使用。\\\\n11. 请将本品放在儿童不能接触的地方。\\\\n12. 儿童必须在成人监护下使用。\\\\n13. 如正在使用其他药品，使用本品前请咨询医师或药师。',\"]"
      ]
     },
     "execution_count": 62,
     "metadata": {},
     "output_type": "execute_result"
    }
   ],
   "source": [
    "q1_res = customer_retriever(q=res_multi_query[\"src_question\"])\n",
    "q1_res"
   ]
  },
  {
   "cell_type": "code",
   "execution_count": 63,
   "metadata": {},
   "outputs": [
    {
     "name": "stdout",
     "output_type": "stream",
     "text": [
      "{'ids': [['1d70f01b3d0543f4aeef7e98ac99f69a']], 'distances': [[0.6757984161376953]], 'embeddings': None, 'metadatas': [[{'source': 'https://www.yaozs.com/sms4219/', 'title': '氨咖黄敏胶囊'}]], 'documents': [[\"'适应症': '适用于缓解普通感冒及流行性感冒引起的发热、头痛、四肢酸痛、打喷嚏、流鼻涕、鼻塞、咽痛等症状。', '规格': '12粒*1板', '不良反应': '有时有轻度头晕、乏力、恶心、上腹不适、口干、食欲缺乏和皮疹等，可自行恢复。', '用法用量': '口服。成人，一次1～2粒，一日3次。', '禁忌': '严重肝肾功能不全者禁用。', '注意事项': '1. 用药3-7天，症状未缓解，请咨询医师或药师。\\\\n2. 服用本品期间不得饮酒或含有酒精的饮料。\\\\n3. 不能同时服用与本品成份相似的其他抗感冒药。\\\\n4. 前列腺肥大、青光眼等患者以及老年人应在医师指导下使用。\\\\n5. 肝、肾功能不全者慎用。\\\\n6. 孕妇及哺乳期妇女慎用。\\\\n7. 服药期间不得驾驶机、车、船、从事高空作业、机械作业及操作精密仪器。\\\\n8. 如服用过量或出现严重不良反应，应立即就医。\\\\n9. 对本品过敏者禁用，过敏体质者慎用。\\\\n10. 本品性状发生改变时禁止使用。\\\\n11. 请将本品放在儿童不能接触的地方。\\\\n12. 儿童必须在成人监护下使用。\\\\n13. 如正在使用其他药品，使用本品前请咨询医师或药师。',\"]], 'uris': None, 'data': None, 'included': ['metadatas', 'documents', 'distances']}\n",
      "0.6757984161376953\n"
     ]
    },
    {
     "data": {
      "text/plain": [
       "[\"'适应症': '适用于缓解普通感冒及流行性感冒引起的发热、头痛、四肢酸痛、打喷嚏、流鼻涕、鼻塞、咽痛等症状。', '规格': '12粒*1板', '不良反应': '有时有轻度头晕、乏力、恶心、上腹不适、口干、食欲缺乏和皮疹等，可自行恢复。', '用法用量': '口服。成人，一次1～2粒，一日3次。', '禁忌': '严重肝肾功能不全者禁用。', '注意事项': '1. 用药3-7天，症状未缓解，请咨询医师或药师。\\\\n2. 服用本品期间不得饮酒或含有酒精的饮料。\\\\n3. 不能同时服用与本品成份相似的其他抗感冒药。\\\\n4. 前列腺肥大、青光眼等患者以及老年人应在医师指导下使用。\\\\n5. 肝、肾功能不全者慎用。\\\\n6. 孕妇及哺乳期妇女慎用。\\\\n7. 服药期间不得驾驶机、车、船、从事高空作业、机械作业及操作精密仪器。\\\\n8. 如服用过量或出现严重不良反应，应立即就医。\\\\n9. 对本品过敏者禁用，过敏体质者慎用。\\\\n10. 本品性状发生改变时禁止使用。\\\\n11. 请将本品放在儿童不能接触的地方。\\\\n12. 儿童必须在成人监护下使用。\\\\n13. 如正在使用其他药品，使用本品前请咨询医师或药师。',\"]"
      ]
     },
     "execution_count": 63,
     "metadata": {},
     "output_type": "execute_result"
    }
   ],
   "source": [
    "q2_res = customer_retriever(q=res_multi_query[\"new_question1\"])\n",
    "q2_res"
   ]
  },
  {
   "cell_type": "code",
   "execution_count": 64,
   "metadata": {},
   "outputs": [
    {
     "name": "stdout",
     "output_type": "stream",
     "text": [
      "{'ids': [['16035c2b3a2448cbbb9669612d54b405']], 'distances': [[0.6073814630508423]], 'embeddings': None, 'metadatas': [[{'source': 'https://www.yaozs.com/sms4169/', 'title': '氨咖黄敏胶囊'}]], 'documents': [[\"'适应症': '适用于缓解普通感冒及流行性感冒引起的发热、头痛、四肢酸痛、打喷嚏、流鼻涕、鼻塞、咽痛等症状。', '规格': '复方制剂', '不良反应': '有时有轻度头晕、乏力、恶心、上腹不适、口干、食欲缺乏和皮疹等，可自行恢复。', '用法用量': '口服。成人，一次1～2粒，一日3次。', '禁忌': '严重肝肾功能不全者禁用。', '注意事项': '1. 用药3-7天，症状未缓解，请咨询医师或药师。\\\\n2. 服用本品期间不得饮酒或含有酒精的饮料。\\\\n3. 不能同时服用与本品成份相似的其他抗感冒药。\\\\n4. 前列腺肥大、青光眼等患者以及老年人应在医师指导下使用。\\\\n5. 肝、肾功能不全者慎用。\\\\n6. 孕妇及哺乳期妇女慎用。\\\\n7. 服药期间不得驾驶机、车、船、从事高空作业、机械作业及操作精密仪器。\\\\n8. 如服用过量或出现严重不良反应，应立即就医。\\\\n9. 对本品过敏者禁用，过敏体质者慎用。\\\\n10. 本品性状发生改变时禁止使用。\\\\n11. 请将本品放在儿童不能接触的地方。\\\\n12. 儿童必须在成人监护下使用。\\\\n13. 如正在使用其他药品，使用本品前请咨询医师或药师。',\"]], 'uris': None, 'data': None, 'included': ['metadatas', 'documents', 'distances']}\n",
      "0.6073814630508423\n"
     ]
    },
    {
     "data": {
      "text/plain": [
       "[\"'适应症': '适用于缓解普通感冒及流行性感冒引起的发热、头痛、四肢酸痛、打喷嚏、流鼻涕、鼻塞、咽痛等症状。', '规格': '复方制剂', '不良反应': '有时有轻度头晕、乏力、恶心、上腹不适、口干、食欲缺乏和皮疹等，可自行恢复。', '用法用量': '口服。成人，一次1～2粒，一日3次。', '禁忌': '严重肝肾功能不全者禁用。', '注意事项': '1. 用药3-7天，症状未缓解，请咨询医师或药师。\\\\n2. 服用本品期间不得饮酒或含有酒精的饮料。\\\\n3. 不能同时服用与本品成份相似的其他抗感冒药。\\\\n4. 前列腺肥大、青光眼等患者以及老年人应在医师指导下使用。\\\\n5. 肝、肾功能不全者慎用。\\\\n6. 孕妇及哺乳期妇女慎用。\\\\n7. 服药期间不得驾驶机、车、船、从事高空作业、机械作业及操作精密仪器。\\\\n8. 如服用过量或出现严重不良反应，应立即就医。\\\\n9. 对本品过敏者禁用，过敏体质者慎用。\\\\n10. 本品性状发生改变时禁止使用。\\\\n11. 请将本品放在儿童不能接触的地方。\\\\n12. 儿童必须在成人监护下使用。\\\\n13. 如正在使用其他药品，使用本品前请咨询医师或药师。',\"]"
      ]
     },
     "execution_count": 64,
     "metadata": {},
     "output_type": "execute_result"
    }
   ],
   "source": [
    "q3_res = customer_retriever(q=res_multi_query[\"new_question2\"])\n",
    "q3_res"
   ]
  },
  {
   "cell_type": "code",
   "execution_count": 65,
   "metadata": {},
   "outputs": [
    {
     "name": "stdout",
     "output_type": "stream",
     "text": [
      "{'ids': [['f81a853e91b847779249fa9f3eaf9692']], 'distances': [[0.6549622416496277]], 'embeddings': None, 'metadatas': [[{'source': 'https://www.yaozs.com/sms3931/', 'title': '氨咖黄敏胶囊'}]], 'documents': [[\"'适应症': '适用于缓解普通感冒及流行性感冒引起的发热、头痛、四肢酸痛、打喷嚏、流鼻涕、鼻塞、咽痛等症状。', '规格': '12粒', '不良反应': '有时有轻度头晕、乏力、恶心、上腹不适、口干、食欲缺乏和皮疹等，可自行恢复。', '用法用量': '口服。成人，一次1～2粒，一日3次。', '禁忌': '严重肝肾功能不全者禁用。', '注意事项': '1. 用药3-7天，症状未缓解，请咨询医师或药师。\\\\n2. 服用本品期间不得饮酒或含有酒精的饮料。\\\\n3. 不能同时服用与本品成份相似的其他抗感冒药。\\\\n4. 前列腺肥大、青光眼等患者以及老年人应在医师指导下使用。\\\\n5. 肝、肾功能不全者慎用。\\\\n6. 孕妇及哺乳期妇女慎用。\\\\n7. 服药期间不得驾驶机、车、船、从事高空作业、机械作业及操作精密仪器。\\\\n8. 如服用过量或出现严重不良反应，应立即就医。\\\\n9. 对本品过敏者禁用，过敏体质者慎用。\\\\n10. 本品性状发生改变时禁止使用。\\\\n11. 请将本品放在儿童不能接触的地方。\\\\n12. 儿童必须在成人监护下使用。\\\\n13. 如正在使用其他药品，使用本品前请咨询医师或药师。',\"]], 'uris': None, 'data': None, 'included': ['metadatas', 'documents', 'distances']}\n",
      "0.6549622416496277\n"
     ]
    },
    {
     "data": {
      "text/plain": [
       "[\"'适应症': '适用于缓解普通感冒及流行性感冒引起的发热、头痛、四肢酸痛、打喷嚏、流鼻涕、鼻塞、咽痛等症状。', '规格': '12粒', '不良反应': '有时有轻度头晕、乏力、恶心、上腹不适、口干、食欲缺乏和皮疹等，可自行恢复。', '用法用量': '口服。成人，一次1～2粒，一日3次。', '禁忌': '严重肝肾功能不全者禁用。', '注意事项': '1. 用药3-7天，症状未缓解，请咨询医师或药师。\\\\n2. 服用本品期间不得饮酒或含有酒精的饮料。\\\\n3. 不能同时服用与本品成份相似的其他抗感冒药。\\\\n4. 前列腺肥大、青光眼等患者以及老年人应在医师指导下使用。\\\\n5. 肝、肾功能不全者慎用。\\\\n6. 孕妇及哺乳期妇女慎用。\\\\n7. 服药期间不得驾驶机、车、船、从事高空作业、机械作业及操作精密仪器。\\\\n8. 如服用过量或出现严重不良反应，应立即就医。\\\\n9. 对本品过敏者禁用，过敏体质者慎用。\\\\n10. 本品性状发生改变时禁止使用。\\\\n11. 请将本品放在儿童不能接触的地方。\\\\n12. 儿童必须在成人监护下使用。\\\\n13. 如正在使用其他药品，使用本品前请咨询医师或药师。',\"]"
      ]
     },
     "execution_count": 65,
     "metadata": {},
     "output_type": "execute_result"
    }
   ],
   "source": [
    "q4_res = customer_retriever(q=res_multi_query[\"new_question3\"])\n",
    "q4_res"
   ]
  },
  {
   "cell_type": "code",
   "execution_count": null,
   "metadata": {},
   "outputs": [],
   "source": []
  },
  {
   "cell_type": "code",
   "execution_count": 146,
   "metadata": {},
   "outputs": [
    {
     "name": "stdout",
     "output_type": "stream",
     "text": [
      "Counter({2: 4, 3: 3, 1: 2, 4: 1})\n",
      "出现次数最多的元素是: 2\n"
     ]
    }
   ],
   "source": [
    "from collections import Counter\n",
    " \n",
    "def find_most_frequent(arr):\n",
    "    # 使用Counter来统计每个元素出现的次数\n",
    "    frequency_count = Counter(arr)\n",
    "    print(frequency_count)\n",
    "    # 找到出现次数最多的元素\n",
    "    most_frequent = frequency_count.most_common(1)[0][0]\n",
    "    return most_frequent\n",
    " \n",
    "# 示例数组\n",
    "arr = [1, 2, 3, 2, 3, 2, 4, 2, 3, 1]\n",
    "# 查找数组中出现次数最多的元素\n",
    "result = find_most_frequent(arr)\n",
    "print(f\"出现次数最多的元素是: {result}\")"
   ]
  },
  {
   "cell_type": "code",
   "execution_count": 15,
   "metadata": {},
   "outputs": [],
   "source": [
    "yt_get = requests.post(\n",
    "            \"http://direct.virtaicloud.com:22440/intention_rec/invoke\",\n",
    "            json={\"input\": {\"role\": \"意图识别专家\", \"content\": \"请总结一下我们上述的对话内容\"}}\n",
    "        )\n",
    "        "
   ]
  },
  {
   "cell_type": "code",
   "execution_count": 16,
   "metadata": {},
   "outputs": [
    {
     "data": {
      "text/plain": [
       "<Response [200]>"
      ]
     },
     "execution_count": 16,
     "metadata": {},
     "output_type": "execute_result"
    }
   ],
   "source": [
    "yt_get"
   ]
  },
  {
   "cell_type": "code",
   "execution_count": 18,
   "metadata": {},
   "outputs": [
    {
     "ename": "TypeError",
     "evalue": "Object of type Response is not JSON serializable",
     "output_type": "error",
     "traceback": [
      "\u001b[1;31m---------------------------------------------------------------------------\u001b[0m",
      "\u001b[1;31mTypeError\u001b[0m                                 Traceback (most recent call last)",
      "Cell \u001b[1;32mIn[18], line 1\u001b[0m\n\u001b[1;32m----> 1\u001b[0m json_data \u001b[38;5;241m=\u001b[39m json\u001b[38;5;241m.\u001b[39mdumps(yt_get)\n",
      "File \u001b[1;32md:\\TOOL\\anaconda3\\Lib\\json\\__init__.py:231\u001b[0m, in \u001b[0;36mdumps\u001b[1;34m(obj, skipkeys, ensure_ascii, check_circular, allow_nan, cls, indent, separators, default, sort_keys, **kw)\u001b[0m\n\u001b[0;32m    226\u001b[0m \u001b[38;5;66;03m# cached encoder\u001b[39;00m\n\u001b[0;32m    227\u001b[0m \u001b[38;5;28;01mif\u001b[39;00m (\u001b[38;5;129;01mnot\u001b[39;00m skipkeys \u001b[38;5;129;01mand\u001b[39;00m ensure_ascii \u001b[38;5;129;01mand\u001b[39;00m\n\u001b[0;32m    228\u001b[0m     check_circular \u001b[38;5;129;01mand\u001b[39;00m allow_nan \u001b[38;5;129;01mand\u001b[39;00m\n\u001b[0;32m    229\u001b[0m     \u001b[38;5;28mcls\u001b[39m \u001b[38;5;129;01mis\u001b[39;00m \u001b[38;5;28;01mNone\u001b[39;00m \u001b[38;5;129;01mand\u001b[39;00m indent \u001b[38;5;129;01mis\u001b[39;00m \u001b[38;5;28;01mNone\u001b[39;00m \u001b[38;5;129;01mand\u001b[39;00m separators \u001b[38;5;129;01mis\u001b[39;00m \u001b[38;5;28;01mNone\u001b[39;00m \u001b[38;5;129;01mand\u001b[39;00m\n\u001b[0;32m    230\u001b[0m     default \u001b[38;5;129;01mis\u001b[39;00m \u001b[38;5;28;01mNone\u001b[39;00m \u001b[38;5;129;01mand\u001b[39;00m \u001b[38;5;129;01mnot\u001b[39;00m sort_keys \u001b[38;5;129;01mand\u001b[39;00m \u001b[38;5;129;01mnot\u001b[39;00m kw):\n\u001b[1;32m--> 231\u001b[0m     \u001b[38;5;28;01mreturn\u001b[39;00m _default_encoder\u001b[38;5;241m.\u001b[39mencode(obj)\n\u001b[0;32m    232\u001b[0m \u001b[38;5;28;01mif\u001b[39;00m \u001b[38;5;28mcls\u001b[39m \u001b[38;5;129;01mis\u001b[39;00m \u001b[38;5;28;01mNone\u001b[39;00m:\n\u001b[0;32m    233\u001b[0m     \u001b[38;5;28mcls\u001b[39m \u001b[38;5;241m=\u001b[39m JSONEncoder\n",
      "File \u001b[1;32md:\\TOOL\\anaconda3\\Lib\\json\\encoder.py:200\u001b[0m, in \u001b[0;36mJSONEncoder.encode\u001b[1;34m(self, o)\u001b[0m\n\u001b[0;32m    196\u001b[0m         \u001b[38;5;28;01mreturn\u001b[39;00m encode_basestring(o)\n\u001b[0;32m    197\u001b[0m \u001b[38;5;66;03m# This doesn't pass the iterator directly to ''.join() because the\u001b[39;00m\n\u001b[0;32m    198\u001b[0m \u001b[38;5;66;03m# exceptions aren't as detailed.  The list call should be roughly\u001b[39;00m\n\u001b[0;32m    199\u001b[0m \u001b[38;5;66;03m# equivalent to the PySequence_Fast that ''.join() would do.\u001b[39;00m\n\u001b[1;32m--> 200\u001b[0m chunks \u001b[38;5;241m=\u001b[39m \u001b[38;5;28mself\u001b[39m\u001b[38;5;241m.\u001b[39miterencode(o, _one_shot\u001b[38;5;241m=\u001b[39m\u001b[38;5;28;01mTrue\u001b[39;00m)\n\u001b[0;32m    201\u001b[0m \u001b[38;5;28;01mif\u001b[39;00m \u001b[38;5;129;01mnot\u001b[39;00m \u001b[38;5;28misinstance\u001b[39m(chunks, (\u001b[38;5;28mlist\u001b[39m, \u001b[38;5;28mtuple\u001b[39m)):\n\u001b[0;32m    202\u001b[0m     chunks \u001b[38;5;241m=\u001b[39m \u001b[38;5;28mlist\u001b[39m(chunks)\n",
      "File \u001b[1;32md:\\TOOL\\anaconda3\\Lib\\json\\encoder.py:258\u001b[0m, in \u001b[0;36mJSONEncoder.iterencode\u001b[1;34m(self, o, _one_shot)\u001b[0m\n\u001b[0;32m    253\u001b[0m \u001b[38;5;28;01melse\u001b[39;00m:\n\u001b[0;32m    254\u001b[0m     _iterencode \u001b[38;5;241m=\u001b[39m _make_iterencode(\n\u001b[0;32m    255\u001b[0m         markers, \u001b[38;5;28mself\u001b[39m\u001b[38;5;241m.\u001b[39mdefault, _encoder, \u001b[38;5;28mself\u001b[39m\u001b[38;5;241m.\u001b[39mindent, floatstr,\n\u001b[0;32m    256\u001b[0m         \u001b[38;5;28mself\u001b[39m\u001b[38;5;241m.\u001b[39mkey_separator, \u001b[38;5;28mself\u001b[39m\u001b[38;5;241m.\u001b[39mitem_separator, \u001b[38;5;28mself\u001b[39m\u001b[38;5;241m.\u001b[39msort_keys,\n\u001b[0;32m    257\u001b[0m         \u001b[38;5;28mself\u001b[39m\u001b[38;5;241m.\u001b[39mskipkeys, _one_shot)\n\u001b[1;32m--> 258\u001b[0m \u001b[38;5;28;01mreturn\u001b[39;00m _iterencode(o, \u001b[38;5;241m0\u001b[39m)\n",
      "File \u001b[1;32md:\\TOOL\\anaconda3\\Lib\\json\\encoder.py:180\u001b[0m, in \u001b[0;36mJSONEncoder.default\u001b[1;34m(self, o)\u001b[0m\n\u001b[0;32m    161\u001b[0m \u001b[38;5;28;01mdef\u001b[39;00m \u001b[38;5;21mdefault\u001b[39m(\u001b[38;5;28mself\u001b[39m, o):\n\u001b[0;32m    162\u001b[0m \u001b[38;5;250m    \u001b[39m\u001b[38;5;124;03m\"\"\"Implement this method in a subclass such that it returns\u001b[39;00m\n\u001b[0;32m    163\u001b[0m \u001b[38;5;124;03m    a serializable object for ``o``, or calls the base implementation\u001b[39;00m\n\u001b[0;32m    164\u001b[0m \u001b[38;5;124;03m    (to raise a ``TypeError``).\u001b[39;00m\n\u001b[1;32m   (...)\u001b[0m\n\u001b[0;32m    178\u001b[0m \n\u001b[0;32m    179\u001b[0m \u001b[38;5;124;03m    \"\"\"\u001b[39;00m\n\u001b[1;32m--> 180\u001b[0m     \u001b[38;5;28;01mraise\u001b[39;00m \u001b[38;5;167;01mTypeError\u001b[39;00m(\u001b[38;5;124mf\u001b[39m\u001b[38;5;124m'\u001b[39m\u001b[38;5;124mObject of type \u001b[39m\u001b[38;5;132;01m{\u001b[39;00mo\u001b[38;5;241m.\u001b[39m\u001b[38;5;18m__class__\u001b[39m\u001b[38;5;241m.\u001b[39m\u001b[38;5;18m__name__\u001b[39m\u001b[38;5;132;01m}\u001b[39;00m\u001b[38;5;124m \u001b[39m\u001b[38;5;124m'\u001b[39m\n\u001b[0;32m    181\u001b[0m                     \u001b[38;5;124mf\u001b[39m\u001b[38;5;124m'\u001b[39m\u001b[38;5;124mis not JSON serializable\u001b[39m\u001b[38;5;124m'\u001b[39m)\n",
      "\u001b[1;31mTypeError\u001b[0m: Object of type Response is not JSON serializable"
     ]
    }
   ],
   "source": []
  },
  {
   "cell_type": "code",
   "execution_count": 17,
   "metadata": {},
   "outputs": [
    {
     "ename": "JSONDecodeError",
     "evalue": "Expecting value: line 1 column 1 (char 0)",
     "output_type": "error",
     "traceback": [
      "\u001b[1;31m---------------------------------------------------------------------------\u001b[0m",
      "\u001b[1;31mJSONDecodeError\u001b[0m                           Traceback (most recent call last)",
      "Cell \u001b[1;32mIn[17], line 2\u001b[0m\n\u001b[0;32m      1\u001b[0m \u001b[38;5;28;01mimport\u001b[39;00m \u001b[38;5;21;01mjson\u001b[39;00m\n\u001b[1;32m----> 2\u001b[0m yt \u001b[38;5;241m=\u001b[39m json\u001b[38;5;241m.\u001b[39mloads(yt_get\u001b[38;5;241m.\u001b[39mjson()[\u001b[38;5;124m'\u001b[39m\u001b[38;5;124moutput\u001b[39m\u001b[38;5;124m'\u001b[39m][\u001b[38;5;124m'\u001b[39m\u001b[38;5;124mcontent\u001b[39m\u001b[38;5;124m'\u001b[39m])[\u001b[38;5;124m\"\u001b[39m\u001b[38;5;124mintention\u001b[39m\u001b[38;5;124m\"\u001b[39m]\n\u001b[0;32m      3\u001b[0m \u001b[38;5;28mprint\u001b[39m(yt)\n",
      "File \u001b[1;32md:\\TOOL\\anaconda3\\Lib\\json\\__init__.py:346\u001b[0m, in \u001b[0;36mloads\u001b[1;34m(s, cls, object_hook, parse_float, parse_int, parse_constant, object_pairs_hook, **kw)\u001b[0m\n\u001b[0;32m    341\u001b[0m     s \u001b[38;5;241m=\u001b[39m s\u001b[38;5;241m.\u001b[39mdecode(detect_encoding(s), \u001b[38;5;124m'\u001b[39m\u001b[38;5;124msurrogatepass\u001b[39m\u001b[38;5;124m'\u001b[39m)\n\u001b[0;32m    343\u001b[0m \u001b[38;5;28;01mif\u001b[39;00m (\u001b[38;5;28mcls\u001b[39m \u001b[38;5;129;01mis\u001b[39;00m \u001b[38;5;28;01mNone\u001b[39;00m \u001b[38;5;129;01mand\u001b[39;00m object_hook \u001b[38;5;129;01mis\u001b[39;00m \u001b[38;5;28;01mNone\u001b[39;00m \u001b[38;5;129;01mand\u001b[39;00m\n\u001b[0;32m    344\u001b[0m         parse_int \u001b[38;5;129;01mis\u001b[39;00m \u001b[38;5;28;01mNone\u001b[39;00m \u001b[38;5;129;01mand\u001b[39;00m parse_float \u001b[38;5;129;01mis\u001b[39;00m \u001b[38;5;28;01mNone\u001b[39;00m \u001b[38;5;129;01mand\u001b[39;00m\n\u001b[0;32m    345\u001b[0m         parse_constant \u001b[38;5;129;01mis\u001b[39;00m \u001b[38;5;28;01mNone\u001b[39;00m \u001b[38;5;129;01mand\u001b[39;00m object_pairs_hook \u001b[38;5;129;01mis\u001b[39;00m \u001b[38;5;28;01mNone\u001b[39;00m \u001b[38;5;129;01mand\u001b[39;00m \u001b[38;5;129;01mnot\u001b[39;00m kw):\n\u001b[1;32m--> 346\u001b[0m     \u001b[38;5;28;01mreturn\u001b[39;00m _default_decoder\u001b[38;5;241m.\u001b[39mdecode(s)\n\u001b[0;32m    347\u001b[0m \u001b[38;5;28;01mif\u001b[39;00m \u001b[38;5;28mcls\u001b[39m \u001b[38;5;129;01mis\u001b[39;00m \u001b[38;5;28;01mNone\u001b[39;00m:\n\u001b[0;32m    348\u001b[0m     \u001b[38;5;28mcls\u001b[39m \u001b[38;5;241m=\u001b[39m JSONDecoder\n",
      "File \u001b[1;32md:\\TOOL\\anaconda3\\Lib\\json\\decoder.py:337\u001b[0m, in \u001b[0;36mJSONDecoder.decode\u001b[1;34m(self, s, _w)\u001b[0m\n\u001b[0;32m    332\u001b[0m \u001b[38;5;28;01mdef\u001b[39;00m \u001b[38;5;21mdecode\u001b[39m(\u001b[38;5;28mself\u001b[39m, s, _w\u001b[38;5;241m=\u001b[39mWHITESPACE\u001b[38;5;241m.\u001b[39mmatch):\n\u001b[0;32m    333\u001b[0m \u001b[38;5;250m    \u001b[39m\u001b[38;5;124;03m\"\"\"Return the Python representation of ``s`` (a ``str`` instance\u001b[39;00m\n\u001b[0;32m    334\u001b[0m \u001b[38;5;124;03m    containing a JSON document).\u001b[39;00m\n\u001b[0;32m    335\u001b[0m \n\u001b[0;32m    336\u001b[0m \u001b[38;5;124;03m    \"\"\"\u001b[39;00m\n\u001b[1;32m--> 337\u001b[0m     obj, end \u001b[38;5;241m=\u001b[39m \u001b[38;5;28mself\u001b[39m\u001b[38;5;241m.\u001b[39mraw_decode(s, idx\u001b[38;5;241m=\u001b[39m_w(s, \u001b[38;5;241m0\u001b[39m)\u001b[38;5;241m.\u001b[39mend())\n\u001b[0;32m    338\u001b[0m     end \u001b[38;5;241m=\u001b[39m _w(s, end)\u001b[38;5;241m.\u001b[39mend()\n\u001b[0;32m    339\u001b[0m     \u001b[38;5;28;01mif\u001b[39;00m end \u001b[38;5;241m!=\u001b[39m \u001b[38;5;28mlen\u001b[39m(s):\n",
      "File \u001b[1;32md:\\TOOL\\anaconda3\\Lib\\json\\decoder.py:355\u001b[0m, in \u001b[0;36mJSONDecoder.raw_decode\u001b[1;34m(self, s, idx)\u001b[0m\n\u001b[0;32m    353\u001b[0m     obj, end \u001b[38;5;241m=\u001b[39m \u001b[38;5;28mself\u001b[39m\u001b[38;5;241m.\u001b[39mscan_once(s, idx)\n\u001b[0;32m    354\u001b[0m \u001b[38;5;28;01mexcept\u001b[39;00m \u001b[38;5;167;01mStopIteration\u001b[39;00m \u001b[38;5;28;01mas\u001b[39;00m err:\n\u001b[1;32m--> 355\u001b[0m     \u001b[38;5;28;01mraise\u001b[39;00m JSONDecodeError(\u001b[38;5;124m\"\u001b[39m\u001b[38;5;124mExpecting value\u001b[39m\u001b[38;5;124m\"\u001b[39m, s, err\u001b[38;5;241m.\u001b[39mvalue) \u001b[38;5;28;01mfrom\u001b[39;00m \u001b[38;5;28;01mNone\u001b[39;00m\n\u001b[0;32m    356\u001b[0m \u001b[38;5;28;01mreturn\u001b[39;00m obj, end\n",
      "\u001b[1;31mJSONDecodeError\u001b[0m: Expecting value: line 1 column 1 (char 0)"
     ]
    }
   ],
   "source": [
    "import json\n",
    "yt = json.loads(yt_get.json()['output']['content'])[\"intention\"]\n",
    "print(yt)"
   ]
  },
  {
   "cell_type": "code",
   "execution_count": 19,
   "metadata": {},
   "outputs": [
    {
     "name": "stdout",
     "output_type": "stream",
     "text": [
      "参\n",
      "考\n",
      "文\n",
      "献\n",
      "：\n",
      "f\n",
      "s\n",
      "d\n",
      "g\n",
      "s\n",
      "d\n",
      "g\n",
      "f\n",
      "d\n",
      "g\n",
      "h\n"
     ]
    }
   ],
   "source": [
    "ll = \"参考文献：fsdgsdgfdgh\"\n",
    "for i in range(len(ll)):\n",
    "    print(ll[i])"
   ]
  },
  {
   "cell_type": "markdown",
   "metadata": {},
   "source": [
    "### 自定义解析器"
   ]
  },
  {
   "cell_type": "code",
   "execution_count": 20,
   "metadata": {},
   "outputs": [],
   "source": [
    "from typing import Iterable\n",
    "from langchain_core.runnables import RunnableGenerator\n",
    "from langchain_core.messages import AIMessage, AIMessageChunk\n",
    "\n",
    "\n",
    "\n",
    "def streaming_parse(chunks: Iterable[AIMessageChunk]) -> Iterable[str]:\n",
    "    ll = \"参考文献：fsdgsdgfdgh\"\n",
    "    for chunk in chunks:\n",
    "        yield chunk.content.swapcase()\n",
    "streaming_parse = RunnableGenerator(streaming_parse)"
   ]
  },
  {
   "cell_type": "code",
   "execution_count": 22,
   "metadata": {},
   "outputs": [],
   "source": [
    "from typing import Any, AsyncIterator, Iterator\n",
    "\n",
    "from langchain_core.runnables import RunnableGenerator\n",
    "\n",
    "\n",
    "def gen(input: Iterator[Any]) -> Iterator[str]:\n",
    "    for token in [\"Have\", \" a\", \" nice\", \" day\"]:\n",
    "        yield token\n"
   ]
  },
  {
   "cell_type": "code",
   "execution_count": 23,
   "metadata": {},
   "outputs": [],
   "source": [
    "runnable = RunnableGenerator(gen)\n"
   ]
  },
  {
   "cell_type": "code",
   "execution_count": 24,
   "metadata": {},
   "outputs": [
    {
     "data": {
      "text/plain": [
       "'Have a nice day'"
      ]
     },
     "execution_count": 24,
     "metadata": {},
     "output_type": "execute_result"
    }
   ],
   "source": [
    "runnable.invoke(None)  # \"Have a nice day\"\n"
   ]
  },
  {
   "cell_type": "code",
   "execution_count": 28,
   "metadata": {},
   "outputs": [
    {
     "data": {
      "text/plain": [
       "['Have', ' a', ' nice', ' day']"
      ]
     },
     "execution_count": 28,
     "metadata": {},
     "output_type": "execute_result"
    }
   ],
   "source": [
    "list(runnable.stream(None))  # [\"Have\", \" a\", \" nice\", \" day\"]"
   ]
  },
  {
   "cell_type": "code",
   "execution_count": 26,
   "metadata": {},
   "outputs": [
    {
     "data": {
      "text/plain": [
       "['Have a nice day', 'Have a nice day']"
      ]
     },
     "execution_count": 26,
     "metadata": {},
     "output_type": "execute_result"
    }
   ],
   "source": [
    "runnable.batch([None, None])  # [\"Have a nice day\", \"Have a nice day\"]"
   ]
  },
  {
   "cell_type": "code",
   "execution_count": null,
   "metadata": {},
   "outputs": [],
   "source": []
  }
 ],
 "metadata": {
  "kernelspec": {
   "display_name": "base",
   "language": "python",
   "name": "python3"
  },
  "language_info": {
   "codemirror_mode": {
    "name": "ipython",
    "version": 3
   },
   "file_extension": ".py",
   "mimetype": "text/x-python",
   "name": "python",
   "nbconvert_exporter": "python",
   "pygments_lexer": "ipython3",
   "version": "3.11.7"
  }
 },
 "nbformat": 4,
 "nbformat_minor": 2
}
